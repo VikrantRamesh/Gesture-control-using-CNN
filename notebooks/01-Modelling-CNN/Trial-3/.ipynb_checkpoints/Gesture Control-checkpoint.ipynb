{
 "cells": [
  {
   "cell_type": "markdown",
   "id": "7004ed1c",
   "metadata": {},
   "source": [
    "## Code to detect hands"
   ]
  },
  {
   "cell_type": "code",
   "execution_count": 12,
   "id": "90f337de",
   "metadata": {
    "scrolled": true
   },
   "outputs": [],
   "source": [
    "import cv2\n",
    "import mediapipe as mp\n",
    "\n",
    "cap = cv2.VideoCapture(0)\n",
    "\n",
    "drawing = mp.solutions.drawing_utils\n",
    "hands = mp.solutions.hands\n",
    "hand_obj = hands.Hands(max_num_hands = 1)\n",
    "\n",
    "while True:\n",
    "    _, frm = cap.read()\n",
    "    \n",
    "    h, w, c = frm.shape\n",
    "\n",
    "    frm = cv2.flip(frm,1)\n",
    "    \n",
    "    res = hand_obj.process(cv2.cvtColor(frm, cv2.COLOR_BGR2RGB))\n",
    "    \n",
    "    # Draw the hand landmarks on the image\n",
    "    if res.multi_hand_landmarks:\n",
    "        for hand_landmarks in res.multi_hand_landmarks:\n",
    "\n",
    "\n",
    "            # Draw a rectangle around the hand\n",
    "            x_min = y_min = float('inf')\n",
    "            x_max = y_max = float('-inf')\n",
    "            for landmark in hand_landmarks.landmark:\n",
    "                x, y = int(landmark.x * frm.shape[1]), int(landmark.y * frm.shape[0])\n",
    "                if x < x_min:\n",
    "                    x_min = x\n",
    "                if x > x_max:\n",
    "                    x_max = x\n",
    "                if y < y_min:\n",
    "                    y_min = y\n",
    "                if y > y_max:\n",
    "                    y_max = y\n",
    "            cv2.rectangle(frm, (x_min-20, y_min-20), (x_max+20, y_max+20), (0, 255, 0), 2)\n",
    "            drawing.draw_landmarks(frm,res.multi_hand_landmarks[0],hands.HAND_CONNECTIONS) \n",
    "\n",
    "    cv2.imshow(\"Video\", frm)\n",
    "    \n",
    "    if cv2.waitKey(1) == 113:\n",
    "        cv2.destroyAllWindows()\n",
    "        cap.release()\n",
    "        break"
   ]
  },
  {
   "cell_type": "markdown",
   "id": "4ec2fc54",
   "metadata": {},
   "source": [
    "## Failed code to mask background"
   ]
  },
  {
   "cell_type": "code",
   "execution_count": 4,
   "id": "176b4f23",
   "metadata": {
    "scrolled": true
   },
   "outputs": [],
   "source": [
    "import cv2\n",
    "import mediapipe as mp\n",
    "import numpy as np\n",
    "\n",
    "cap = cv2.VideoCapture(0)\n",
    "\n",
    "drawing = mp.solutions.drawing_utils\n",
    "hands = mp.solutions.hands\n",
    "hand_obj = hands.Hands(max_num_hands = 1)\n",
    "\n",
    "i = 0\n",
    "\n",
    "while True:\n",
    "    i=i+1\n",
    "    _, frm = cap.read()\n",
    "    \n",
    "    h, w, c = frm.shape\n",
    "\n",
    "    frm = cv2.flip(frm,1)\n",
    "    \n",
    "    res = hand_obj.process(cv2.cvtColor(frm, cv2.COLOR_BGR2RGB))\n",
    "    masked_img = frm\n",
    "    dim = frm.shape\n",
    "    # Draw the hand landmarks on the image\n",
    "    if res.multi_hand_landmarks:\n",
    "        for hand_landmarks in res.multi_hand_landmarks:\n",
    "\n",
    "            # Draw a rectangle around the hand\n",
    "            x_max = y_max = 0\n",
    "            x_min = dim[1]\n",
    "            y_min= dim[0]\n",
    "            for landmark in hand_landmarks.landmark:\n",
    "                x, y = int(landmark.x * frm.shape[1]), int(landmark.y * frm.shape[0])\n",
    "                \n",
    "                if x < x_min:\n",
    "                    x_min = x\n",
    "                if x > x_max:\n",
    "                    x_max = x\n",
    "                if y < y_min:\n",
    "                    y_min = y\n",
    "                if y > y_max:\n",
    "                    y_max = y\n",
    "            wid = x_max-x_min\n",
    "            if wid<200:\n",
    "                wid_d = (200 - wid)//2\n",
    "                \n",
    "            ht = y_max-y_min\n",
    "            if ht<250:\n",
    "                ht_d = (250 - ht)//2\n",
    "            cv2.rectangle(frm, (x_min-wid_d, y_min-ht_d), (x_max+wid_d, y_max+ht_d), (0, 255, 0), 2)\n",
    "            \n",
    "            foi = frm[y_min-ht_d+2:y_max+ht_d-2, x_min-wid_d+2:x_max+wid_d-2]\n",
    "            #foi = frm[y_min:y_max, x_min:x_max]\n",
    "            #drawing.draw_landmarks(frm,res.multi_hand_landmarks[0],hands.HAND_CONNECTIONS) \n",
    "            \n",
    "            # Convert the image to HSV color space\n",
    "            hsv = cv2.cvtColor(foi, cv2.COLOR_BGR2HSV)\n",
    "\n",
    "            # Define the range of skin color\n",
    "            lower_skin = np.array([2, 0, 0], dtype=np.uint8)\n",
    "            upper_skin = np.array([20, 255, 255], dtype=np.uint8)\n",
    "\n",
    "            # Create a mask with the skin color range\n",
    "            mask = cv2.inRange(hsv, lower_skin, upper_skin)\n",
    "\n",
    "            # Apply morphology operations to the mask to remove noise\n",
    "            kernel = np.ones((2,2), np.uint8)\n",
    "            mask = cv2.erode(mask, kernel, iterations=1)\n",
    "            mask = cv2.dilate(mask, kernel, iterations=1)\n",
    "        \n",
    "            # Apply the mask to the original image\n",
    "            masked_img = cv2.bitwise_and(mask, mask, mask=mask)\n",
    "\n",
    "\n",
    "    cv2.imshow(\"Video\", masked_img)\n",
    "    \n",
    "    if cv2.waitKey(1) == ord('s'):\n",
    "                cv2.imwrite(f'E:\\My Doucuments\\Machine Learning\\Gesture Identification\\Data\\Index\\index{i}.jpg', foi)\n",
    "   \n",
    "    if cv2.waitKey(1) == ord('q'):\n",
    "        cv2.destroyAllWindows()\n",
    "        cap.release()\n",
    "        break"
   ]
  },
  {
   "cell_type": "markdown",
   "id": "7eb7e8bc",
   "metadata": {},
   "source": [
    "## Attempt to mask background using canny edge detection"
   ]
  },
  {
   "cell_type": "code",
   "execution_count": 43,
   "id": "dd707cc5",
   "metadata": {},
   "outputs": [],
   "source": [
    "import cv2\n",
    "import mediapipe as mp\n",
    "import numpy as np\n",
    "\n",
    "cap = cv2.VideoCapture(0)\n",
    "\n",
    "drawing = mp.solutions.drawing_utils\n",
    "hands = mp.solutions.hands\n",
    "hand_obj = hands.Hands(max_num_hands = 1)\n",
    "\n",
    "i = 0\n",
    "\n",
    "while True:\n",
    "    i=i+1\n",
    "    _, frm = cap.read()\n",
    "    \n",
    "    h, w, c = frm.shape\n",
    "\n",
    "    frm = cv2.flip(frm,1)\n",
    "    \n",
    "    res = hand_obj.process(cv2.cvtColor(frm, cv2.COLOR_BGR2RGB))\n",
    "    foi = frm\n",
    "    dim = frm.shape\n",
    "    # Draw the hand landmarks on the image\n",
    "    if res.multi_hand_landmarks:\n",
    "        for hand_landmarks in res.multi_hand_landmarks:\n",
    "\n",
    "            # Draw a rectangle around the hand\n",
    "            x_max = y_max = 0\n",
    "            x_min = dim[1]\n",
    "            y_min= dim[0]\n",
    "            for landmark in hand_landmarks.landmark:\n",
    "                x, y = int(landmark.x * frm.shape[1]), int(landmark.y * frm.shape[0])\n",
    "                \n",
    "                if x < x_min:\n",
    "                    x_min = x\n",
    "                if x > x_max:\n",
    "                    x_max = x\n",
    "                if y < y_min:\n",
    "                    y_min = y\n",
    "                if y > y_max:\n",
    "                    y_max = y\n",
    "            wid = x_max-x_min\n",
    "            if wid<200:\n",
    "                wid_d = (200 - wid)//2\n",
    "                \n",
    "            ht = y_max-y_min\n",
    "            if ht<250:\n",
    "                ht_d = (250 - ht)//2\n",
    "            cv2.rectangle(frm, (x_min-wid_d, y_min-ht_d), (x_max+wid_d, y_max+ht_d), (0, 255, 0), 2)\n",
    "            \n",
    "            foi = frm[y_min-ht_d+2:y_max+ht_d-2, x_min-wid_d+2:x_max+wid_d-2]\n",
    "            #foi = frm[y_min:y_max, x_min:x_max]\n",
    "            #drawing.draw_landmarks(frm,res.multi_hand_landmarks[0],hands.HAND_CONNECTIONS) \n",
    "\n",
    "    if foi.shape[0]>0 and foi.shape[1]>0:\n",
    "        cv2.imshow(\"Video\", foi)\n",
    "    \n",
    "        if cv2.waitKey(1) == ord('s'):\n",
    "                    cv2.imwrite(f'E:\\My Doucuments\\Machine Learning\\Gesture Identification\\Data\\L\\L{i}.jpg', foi)\n",
    "\n",
    "        if cv2.waitKey(1) == ord('q'):\n",
    "            cv2.destroyAllWindows()\n",
    "            cap.release()\n",
    "            break"
   ]
  },
  {
   "cell_type": "markdown",
   "id": "5fddcd29",
   "metadata": {},
   "source": [
    "## Training a sample CNN Model (WIthout background Masking)"
   ]
  },
  {
   "cell_type": "code",
   "execution_count": 1,
   "id": "3f4f25e2",
   "metadata": {},
   "outputs": [],
   "source": [
    "import matplotlib.pyplot as plt\n",
    "import numpy as np\n",
    "import mediapipe as mp\n",
    "import cv2"
   ]
  },
  {
   "cell_type": "code",
   "execution_count": 2,
   "id": "e669a712",
   "metadata": {},
   "outputs": [],
   "source": [
    "import cv2\n",
    "img = cv2.imread(f'E:\\My Doucuments\\Machine Learning\\Gesture Identification\\Data\\L\\L484.jpg')"
   ]
  },
  {
   "cell_type": "code",
   "execution_count": 3,
   "id": "d1f72560",
   "metadata": {},
   "outputs": [],
   "source": [
    "y_train = []"
   ]
  },
  {
   "cell_type": "code",
   "execution_count": 4,
   "id": "0078fa8f",
   "metadata": {
    "scrolled": false
   },
   "outputs": [
    {
     "data": {
      "text/plain": [
       "<matplotlib.image.AxesImage at 0x1c26605b340>"
      ]
     },
     "execution_count": 4,
     "metadata": {},
     "output_type": "execute_result"
    },
    {
     "data": {
      "image/png": "[encoded data removed]",
      "text/plain": [
       "<Figure size 640x480 with 1 Axes>"
      ]
     },
     "metadata": {},
     "output_type": "display_data"
    }
   ],
   "source": [
    "import os\n",
    "\n",
    "# Define the folder containing the images\n",
    "folder_path = f'E:\\My Doucuments\\Machine Learning\\Gesture Identification\\Data\\Index'\n",
    "\n",
    "# Create an empty list to store the images as numpy arrays\n",
    "index = []\n",
    "\n",
    "# Loop through all files in the folder\n",
    "for filename in os.listdir(folder_path):\n",
    "    # Load the image using OpenCV\n",
    "    img = cv2.imread(os.path.join(folder_path, filename))\n",
    "    # Convert the image to grayscale (if needed)\n",
    "    img = cv2.cvtColor(img, cv2.COLOR_BGR2GRAY)\n",
    "    img = cv2.resize(img, (32,32))\n",
    "    # Add the image as a numpy array to the list\n",
    "    index.append(img)\n",
    "    y_train.append(0)\n",
    "\n",
    "# Convert the list of images to a numpy array\n",
    "index = np.array(index, dtype='int')\n",
    "plt.imshow(index[8])"
   ]
  },
  {
   "cell_type": "code",
   "execution_count": 5,
   "id": "d451b6b6",
   "metadata": {},
   "outputs": [
    {
     "data": {
      "text/plain": [
       "<matplotlib.image.AxesImage at 0x1c2680a5fd0>"
      ]
     },
     "execution_count": 5,
     "metadata": {},
     "output_type": "execute_result"
    },
    {
     "data": {
      "image/png": "[encoded data removed]",
      "text/plain": [
       "<Figure size 640x480 with 1 Axes>"
      ]
     },
     "metadata": {},
     "output_type": "display_data"
    }
   ],
   "source": [
    "import os\n",
    "\n",
    "# Define the folder containing the images\n",
    "folder_path = f'E:\\My Doucuments\\Machine Learning\\Gesture Identification\\Data\\Palm'\n",
    "\n",
    "# Create an empty list to store the images as numpy arrays\n",
    "Palm = []\n",
    "\n",
    "# Loop through all files in the folder\n",
    "for filename in os.listdir(folder_path):\n",
    "    # Load the image using OpenCV\n",
    "    img = cv2.imread(os.path.join(folder_path, filename))\n",
    "    # Convert the image to grayscale (if needed)\n",
    "    img = cv2.cvtColor(img, cv2.COLOR_BGR2GRAY)\n",
    "    img = cv2.resize(img, (32,32))\n",
    "    # Add the image as a numpy array to the list\n",
    "    Palm.append(img)\n",
    "    y_train.append(1)\n",
    "\n",
    "# Convert the list of images to a numpy array\n",
    "Palm = np.array(Palm, dtype='int')\n",
    "plt.imshow(Palm[8])"
   ]
  },
  {
   "cell_type": "code",
   "execution_count": 6,
   "id": "7acb9301",
   "metadata": {
    "scrolled": false
   },
   "outputs": [
    {
     "data": {
      "text/plain": [
       "<matplotlib.image.AxesImage at 0x1c2681204c0>"
      ]
     },
     "execution_count": 6,
     "metadata": {},
     "output_type": "execute_result"
    },
    {
     "data": {
      "image/png": "[encoded data removed]",
      "text/plain": [
       "<Figure size 640x480 with 1 Axes>"
      ]
     },
     "metadata": {},
     "output_type": "display_data"
    }
   ],
   "source": [
    "import os\n",
    "\n",
    "# Define the folder containing the images\n",
    "folder_path = f'E:\\My Doucuments\\Machine Learning\\Gesture Identification\\Data\\Stop'\n",
    "\n",
    "# Create an empty list to store the images as numpy arrays\n",
    "Stop = []\n",
    "\n",
    "# Loop through all files in the folder\n",
    "for filename in os.listdir(folder_path):\n",
    "    # Load the image using OpenCV\n",
    "    img = cv2.imread(os.path.join(folder_path, filename))\n",
    "    # Convert the image to grayscale (if needed)\n",
    "    img = cv2.cvtColor(img, cv2.COLOR_BGR2GRAY)\n",
    "    img = cv2.resize(img, (32,32))\n",
    "    # Add the image as a numpy array to the list\n",
    "    Stop.append(img)\n",
    "    y_train.append(2)\n",
    "\n",
    "# Convert the list of images to a numpy array\n",
    "Stop = np.array(Stop, dtype='int')\n",
    "plt.imshow(Stop[2])"
   ]
  },
  {
   "cell_type": "code",
   "execution_count": 7,
   "id": "38ed2a45",
   "metadata": {},
   "outputs": [
    {
     "data": {
      "text/plain": [
       "<matplotlib.image.AxesImage at 0x1c268181fd0>"
      ]
     },
     "execution_count": 7,
     "metadata": {},
     "output_type": "execute_result"
    },
    {
     "data": {
      "image/png": "[encoded data removed]",
      "text/plain": [
       "<Figure size 640x480 with 1 Axes>"
      ]
     },
     "metadata": {},
     "output_type": "display_data"
    }
   ],
   "source": [
    "import os\n",
    "\n",
    "# Define the folder containing the images\n",
    "folder_path = f'E:\\My Doucuments\\Machine Learning\\Gesture Identification\\Data\\L'\n",
    "\n",
    "# Create an empty list to store the images as numpy arrays\n",
    "L = []\n",
    "\n",
    "# Loop through all files in the folder\n",
    "for filename in os.listdir(folder_path):\n",
    "    # Load the image using OpenCV\n",
    "    img = cv2.imread(os.path.join(folder_path, filename))\n",
    "    # Convert the image to grayscale (if needed)\n",
    "    img = cv2.cvtColor(img, cv2.COLOR_BGR2GRAY)\n",
    "    img = cv2.resize(img, (32,32))\n",
    "    # Add the image as a numpy array to the list\n",
    "    L.append(img)\n",
    "    y_train.append(3)\n",
    "\n",
    "# Convert the list of images to a numpy array\n",
    "L = np.array(L, dtype='int')\n",
    "plt.imshow(L[2])"
   ]
  },
  {
   "cell_type": "code",
   "execution_count": 8,
   "id": "7faed00a",
   "metadata": {},
   "outputs": [],
   "source": [
    "data_train = np.concatenate((index,Palm,Stop,L), axis = 0)"
   ]
  },
  {
   "cell_type": "code",
   "execution_count": 9,
   "id": "459066b3",
   "metadata": {},
   "outputs": [
    {
     "data": {
      "text/plain": [
       "(416,)"
      ]
     },
     "execution_count": 9,
     "metadata": {},
     "output_type": "execute_result"
    }
   ],
   "source": [
    "y_train = np.array(y_train)\n",
    "y_train.shape"
   ]
  },
  {
   "cell_type": "code",
   "execution_count": 10,
   "id": "09d068a8",
   "metadata": {},
   "outputs": [
    {
     "data": {
      "text/plain": [
       "(416, 32, 32)"
      ]
     },
     "execution_count": 10,
     "metadata": {},
     "output_type": "execute_result"
    }
   ],
   "source": [
    "data_train.shape"
   ]
  },
  {
   "cell_type": "code",
   "execution_count": 11,
   "id": "5ce7e600",
   "metadata": {},
   "outputs": [],
   "source": [
    "from tensorflow import keras"
   ]
  },
  {
   "cell_type": "code",
   "execution_count": 29,
   "id": "4478cfb5",
   "metadata": {},
   "outputs": [],
   "source": [
    "no_of_classes = 4\n",
    "dropout_rate = 0.3\n",
    "\n",
    "model3 = keras.Sequential([\n",
    "\n",
    "    keras.layers.Conv2D(filters=32, activation='relu',kernel_size=(3,3),input_shape = (32,32,1)),\n",
    "    keras.layers.MaxPooling2D((2,2)),\n",
    "    \n",
    "    keras.layers.Conv2D(filters=32, activation='relu',kernel_size=(3,3)),\n",
    "    keras.layers.MaxPooling2D((2,2)),\n",
    "    \n",
    "    keras.layers.Rescaling(scale = 1./255, offset=0.0),\n",
    "    keras.layers.Flatten(input_shape = (32,32)),\n",
    "    keras.layers.Dense(64, activation = 'relu'),\n",
    "    #keras.layers.Dropout(dropout_rate),\n",
    "    keras.layers.Dense(64, activation = 'relu'),\n",
    "    keras.layers.Dense(32, activation = 'relu'),\n",
    "    #keras.layers.Dropout(dropout_rate),\n",
    "    keras.layers.Dense(no_of_classes, activation = 'softmax')\n",
    "])\n",
    "\n",
    "model3.compile(\n",
    "    optimizer = 'adam', \n",
    "    loss = 'sparse_categorical_crossentropy',\n",
    "    metrics = ['accuracy']\n",
    ")\n"
   ]
  },
  {
   "cell_type": "code",
   "execution_count": 30,
   "id": "4ba2c4b5",
   "metadata": {
    "scrolled": true
   },
   "outputs": [
    {
     "name": "stdout",
     "output_type": "stream",
     "text": [
      "Epoch 1/100\n",
      "11/11 [==============================] - 1s 34ms/step - loss: 1.3252 - accuracy: 0.2861 - val_loss: 2.5090 - val_accuracy: 0.0000e+00\n",
      "Epoch 2/100\n",
      "11/11 [==============================] - 0s 22ms/step - loss: 1.2496 - accuracy: 0.4187 - val_loss: 2.3257 - val_accuracy: 0.0000e+00\n",
      "Epoch 3/100\n",
      "11/11 [==============================] - 0s 22ms/step - loss: 1.1793 - accuracy: 0.5392 - val_loss: 2.4228 - val_accuracy: 0.0000e+00\n",
      "Epoch 4/100\n",
      "11/11 [==============================] - 0s 23ms/step - loss: 1.0361 - accuracy: 0.6506 - val_loss: 2.0546 - val_accuracy: 0.0000e+00\n",
      "Epoch 5/100\n",
      "11/11 [==============================] - 0s 24ms/step - loss: 0.8406 - accuracy: 0.7229 - val_loss: 3.1993 - val_accuracy: 0.0000e+00\n",
      "Epoch 6/100\n",
      "11/11 [==============================] - 0s 24ms/step - loss: 0.7215 - accuracy: 0.7500 - val_loss: 1.3364 - val_accuracy: 0.0357\n",
      "Epoch 7/100\n",
      "11/11 [==============================] - 0s 24ms/step - loss: 0.5287 - accuracy: 0.8193 - val_loss: 1.5766 - val_accuracy: 0.0833\n",
      "Epoch 8/100\n",
      "11/11 [==============================] - 0s 24ms/step - loss: 0.3859 - accuracy: 0.9127 - val_loss: 1.6823 - val_accuracy: 0.1667\n",
      "Epoch 9/100\n",
      "11/11 [==============================] - 0s 25ms/step - loss: 0.2868 - accuracy: 0.9066 - val_loss: 0.8253 - val_accuracy: 0.6429\n",
      "Epoch 10/100\n",
      "11/11 [==============================] - 0s 25ms/step - loss: 0.2325 - accuracy: 0.9217 - val_loss: 1.4461 - val_accuracy: 0.5119\n",
      "Epoch 11/100\n",
      "11/11 [==============================] - 0s 26ms/step - loss: 0.2654 - accuracy: 0.9066 - val_loss: 0.8717 - val_accuracy: 0.6905\n",
      "Epoch 12/100\n",
      "11/11 [==============================] - 0s 25ms/step - loss: 0.1775 - accuracy: 0.9578 - val_loss: 0.3898 - val_accuracy: 0.8810\n",
      "Epoch 13/100\n",
      "11/11 [==============================] - 0s 26ms/step - loss: 0.1696 - accuracy: 0.9548 - val_loss: 0.5567 - val_accuracy: 0.8690\n",
      "Epoch 14/100\n",
      "11/11 [==============================] - 0s 26ms/step - loss: 0.1154 - accuracy: 0.9669 - val_loss: 1.0642 - val_accuracy: 0.6548\n",
      "Epoch 15/100\n",
      "11/11 [==============================] - 0s 25ms/step - loss: 0.0995 - accuracy: 0.9729 - val_loss: 0.5487 - val_accuracy: 0.8214\n",
      "Epoch 16/100\n",
      "11/11 [==============================] - 0s 26ms/step - loss: 0.0919 - accuracy: 0.9759 - val_loss: 0.3286 - val_accuracy: 0.9405\n",
      "Epoch 17/100\n",
      "11/11 [==============================] - 0s 25ms/step - loss: 0.0603 - accuracy: 0.9849 - val_loss: 0.9727 - val_accuracy: 0.6667\n",
      "Epoch 18/100\n",
      "11/11 [==============================] - 0s 26ms/step - loss: 0.0678 - accuracy: 0.9819 - val_loss: 0.4819 - val_accuracy: 0.8690\n",
      "Epoch 19/100\n",
      "11/11 [==============================] - 0s 26ms/step - loss: 0.0423 - accuracy: 0.9910 - val_loss: 0.3430 - val_accuracy: 0.9405\n",
      "Epoch 20/100\n",
      "11/11 [==============================] - 0s 25ms/step - loss: 0.0378 - accuracy: 0.9970 - val_loss: 0.5637 - val_accuracy: 0.8571\n",
      "Epoch 21/100\n",
      "11/11 [==============================] - 0s 25ms/step - loss: 0.0288 - accuracy: 0.9970 - val_loss: 0.4561 - val_accuracy: 0.8571\n",
      "Epoch 22/100\n",
      "11/11 [==============================] - 0s 26ms/step - loss: 0.0257 - accuracy: 0.9940 - val_loss: 0.3911 - val_accuracy: 0.9405\n",
      "Epoch 23/100\n",
      "11/11 [==============================] - 0s 27ms/step - loss: 0.0187 - accuracy: 0.9970 - val_loss: 0.4989 - val_accuracy: 0.8929\n",
      "Epoch 24/100\n",
      "11/11 [==============================] - 0s 25ms/step - loss: 0.0177 - accuracy: 0.9970 - val_loss: 0.5810 - val_accuracy: 0.8333\n",
      "Epoch 25/100\n",
      "11/11 [==============================] - 0s 26ms/step - loss: 0.0166 - accuracy: 0.9970 - val_loss: 0.4260 - val_accuracy: 0.8810\n",
      "Epoch 26/100\n",
      "11/11 [==============================] - 0s 27ms/step - loss: 0.0219 - accuracy: 0.9940 - val_loss: 0.3800 - val_accuracy: 0.9048\n",
      "Epoch 27/100\n",
      "11/11 [==============================] - 0s 26ms/step - loss: 0.0473 - accuracy: 0.9789 - val_loss: 0.3147 - val_accuracy: 0.9286\n",
      "Epoch 28/100\n",
      "11/11 [==============================] - 0s 24ms/step - loss: 0.0391 - accuracy: 0.9940 - val_loss: 0.6713 - val_accuracy: 0.8214\n",
      "Epoch 29/100\n",
      "11/11 [==============================] - 0s 26ms/step - loss: 0.0152 - accuracy: 0.9970 - val_loss: 0.3489 - val_accuracy: 0.9405\n",
      "Epoch 30/100\n",
      "11/11 [==============================] - 0s 27ms/step - loss: 0.0122 - accuracy: 0.9970 - val_loss: 0.9183 - val_accuracy: 0.7381\n",
      "Epoch 31/100\n",
      "11/11 [==============================] - 0s 27ms/step - loss: 0.0105 - accuracy: 1.0000 - val_loss: 0.3914 - val_accuracy: 0.9286\n",
      "Epoch 32/100\n",
      "11/11 [==============================] - 0s 26ms/step - loss: 0.0087 - accuracy: 1.0000 - val_loss: 0.4163 - val_accuracy: 0.9286\n",
      "Epoch 33/100\n",
      "11/11 [==============================] - 0s 26ms/step - loss: 0.0093 - accuracy: 0.9970 - val_loss: 0.5701 - val_accuracy: 0.8452\n",
      "Epoch 34/100\n",
      "11/11 [==============================] - 0s 26ms/step - loss: 0.0092 - accuracy: 1.0000 - val_loss: 0.4609 - val_accuracy: 0.9167\n",
      "Epoch 35/100\n",
      "11/11 [==============================] - 0s 26ms/step - loss: 0.0085 - accuracy: 1.0000 - val_loss: 0.5179 - val_accuracy: 0.8452\n",
      "Epoch 36/100\n",
      "11/11 [==============================] - 0s 27ms/step - loss: 0.0075 - accuracy: 1.0000 - val_loss: 0.4650 - val_accuracy: 0.9286\n",
      "Epoch 37/100\n",
      "11/11 [==============================] - 0s 28ms/step - loss: 0.0059 - accuracy: 1.0000 - val_loss: 0.5247 - val_accuracy: 0.8810\n",
      "Epoch 38/100\n",
      "11/11 [==============================] - 0s 28ms/step - loss: 0.0043 - accuracy: 1.0000 - val_loss: 0.3926 - val_accuracy: 0.9405\n",
      "Epoch 39/100\n",
      "11/11 [==============================] - 0s 30ms/step - loss: 0.0038 - accuracy: 1.0000 - val_loss: 0.4940 - val_accuracy: 0.9167\n",
      "Epoch 40/100\n",
      "11/11 [==============================] - 0s 31ms/step - loss: 0.0027 - accuracy: 1.0000 - val_loss: 0.4275 - val_accuracy: 0.9405\n",
      "Epoch 41/100\n",
      "11/11 [==============================] - 0s 30ms/step - loss: 0.0021 - accuracy: 1.0000 - val_loss: 0.4236 - val_accuracy: 0.9405\n",
      "Epoch 42/100\n",
      "11/11 [==============================] - 0s 27ms/step - loss: 0.0019 - accuracy: 1.0000 - val_loss: 0.4666 - val_accuracy: 0.9405\n",
      "Epoch 43/100\n",
      "11/11 [==============================] - 0s 31ms/step - loss: 0.0018 - accuracy: 1.0000 - val_loss: 0.4624 - val_accuracy: 0.9405\n",
      "Epoch 44/100\n",
      "11/11 [==============================] - 0s 31ms/step - loss: 0.0017 - accuracy: 1.0000 - val_loss: 0.4535 - val_accuracy: 0.9405\n",
      "Epoch 45/100\n",
      "11/11 [==============================] - 0s 28ms/step - loss: 0.0016 - accuracy: 1.0000 - val_loss: 0.4558 - val_accuracy: 0.9405\n",
      "Epoch 46/100\n",
      "11/11 [==============================] - 0s 30ms/step - loss: 0.0015 - accuracy: 1.0000 - val_loss: 0.4655 - val_accuracy: 0.9405\n",
      "Epoch 47/100\n",
      "11/11 [==============================] - 0s 34ms/step - loss: 0.0014 - accuracy: 1.0000 - val_loss: 0.4722 - val_accuracy: 0.9405\n",
      "Epoch 48/100\n",
      "11/11 [==============================] - 0s 36ms/step - loss: 0.0014 - accuracy: 1.0000 - val_loss: 0.4513 - val_accuracy: 0.9405\n",
      "Epoch 49/100\n",
      "11/11 [==============================] - 0s 37ms/step - loss: 0.0012 - accuracy: 1.0000 - val_loss: 0.4904 - val_accuracy: 0.9405\n",
      "Epoch 50/100\n",
      "11/11 [==============================] - 0s 37ms/step - loss: 0.0013 - accuracy: 1.0000 - val_loss: 0.4639 - val_accuracy: 0.9405\n",
      "Epoch 51/100\n",
      "11/11 [==============================] - 0s 38ms/step - loss: 0.0011 - accuracy: 1.0000 - val_loss: 0.4802 - val_accuracy: 0.9405\n",
      "Epoch 52/100\n",
      "11/11 [==============================] - 0s 46ms/step - loss: 0.0011 - accuracy: 1.0000 - val_loss: 0.4726 - val_accuracy: 0.9405\n",
      "Epoch 53/100\n",
      "11/11 [==============================] - 0s 42ms/step - loss: 0.0010 - accuracy: 1.0000 - val_loss: 0.4751 - val_accuracy: 0.9405\n",
      "Epoch 54/100\n",
      "11/11 [==============================] - 0s 46ms/step - loss: 9.6022e-04 - accuracy: 1.0000 - val_loss: 0.4787 - val_accuracy: 0.9405\n",
      "Epoch 55/100\n",
      "11/11 [==============================] - 1s 47ms/step - loss: 9.2731e-04 - accuracy: 1.0000 - val_loss: 0.4734 - val_accuracy: 0.9405\n",
      "Epoch 56/100\n",
      "11/11 [==============================] - 1s 49ms/step - loss: 8.7771e-04 - accuracy: 1.0000 - val_loss: 0.4860 - val_accuracy: 0.9405\n",
      "Epoch 57/100\n",
      "11/11 [==============================] - 1s 47ms/step - loss: 8.4424e-04 - accuracy: 1.0000 - val_loss: 0.4779 - val_accuracy: 0.9405\n",
      "Epoch 58/100\n",
      "11/11 [==============================] - 1s 48ms/step - loss: 8.1674e-04 - accuracy: 1.0000 - val_loss: 0.4873 - val_accuracy: 0.9405\n",
      "Epoch 59/100\n",
      "11/11 [==============================] - 0s 41ms/step - loss: 8.4447e-04 - accuracy: 1.0000 - val_loss: 0.4781 - val_accuracy: 0.9405\n",
      "Epoch 60/100\n",
      "11/11 [==============================] - 1s 48ms/step - loss: 7.5442e-04 - accuracy: 1.0000 - val_loss: 0.5016 - val_accuracy: 0.9405\n",
      "Epoch 61/100\n",
      "11/11 [==============================] - 1s 47ms/step - loss: 7.5242e-04 - accuracy: 1.0000 - val_loss: 0.4881 - val_accuracy: 0.9405\n",
      "Epoch 62/100\n",
      "11/11 [==============================] - 1s 47ms/step - loss: 6.9570e-04 - accuracy: 1.0000 - val_loss: 0.4935 - val_accuracy: 0.9405\n",
      "Epoch 63/100\n",
      "11/11 [==============================] - 1s 54ms/step - loss: 6.7794e-04 - accuracy: 1.0000 - val_loss: 0.4897 - val_accuracy: 0.9405\n",
      "Epoch 64/100\n",
      "11/11 [==============================] - 1s 51ms/step - loss: 6.5070e-04 - accuracy: 1.0000 - val_loss: 0.4967 - val_accuracy: 0.9405\n",
      "Epoch 65/100\n",
      "11/11 [==============================] - 0s 46ms/step - loss: 6.3168e-04 - accuracy: 1.0000 - val_loss: 0.5003 - val_accuracy: 0.9405\n",
      "Epoch 66/100\n",
      "11/11 [==============================] - 0s 40ms/step - loss: 5.9910e-04 - accuracy: 1.0000 - val_loss: 0.5028 - val_accuracy: 0.9405\n",
      "Epoch 67/100\n",
      "11/11 [==============================] - 0s 45ms/step - loss: 6.1510e-04 - accuracy: 1.0000 - val_loss: 0.5036 - val_accuracy: 0.9405\n",
      "Epoch 68/100\n",
      "11/11 [==============================] - 1s 54ms/step - loss: 5.9512e-04 - accuracy: 1.0000 - val_loss: 0.4764 - val_accuracy: 0.9405\n",
      "Epoch 69/100\n",
      "11/11 [==============================] - 1s 50ms/step - loss: 5.5261e-04 - accuracy: 1.0000 - val_loss: 0.4995 - val_accuracy: 0.9405\n",
      "Epoch 70/100\n",
      "11/11 [==============================] - 0s 39ms/step - loss: 5.3009e-04 - accuracy: 1.0000 - val_loss: 0.5066 - val_accuracy: 0.9405\n",
      "Epoch 71/100\n",
      "11/11 [==============================] - 0s 39ms/step - loss: 5.0056e-04 - accuracy: 1.0000 - val_loss: 0.5084 - val_accuracy: 0.9405\n",
      "Epoch 72/100\n",
      "11/11 [==============================] - 0s 36ms/step - loss: 5.1655e-04 - accuracy: 1.0000 - val_loss: 0.5046 - val_accuracy: 0.9405\n",
      "Epoch 73/100\n",
      "11/11 [==============================] - 0s 36ms/step - loss: 4.7423e-04 - accuracy: 1.0000 - val_loss: 0.5139 - val_accuracy: 0.9405\n",
      "Epoch 74/100\n",
      "11/11 [==============================] - 0s 37ms/step - loss: 4.8333e-04 - accuracy: 1.0000 - val_loss: 0.5122 - val_accuracy: 0.9405\n",
      "Epoch 75/100\n",
      "11/11 [==============================] - 0s 42ms/step - loss: 4.3418e-04 - accuracy: 1.0000 - val_loss: 0.4951 - val_accuracy: 0.9405\n",
      "Epoch 76/100\n",
      "11/11 [==============================] - 0s 41ms/step - loss: 4.5930e-04 - accuracy: 1.0000 - val_loss: 0.4986 - val_accuracy: 0.9405\n",
      "Epoch 77/100\n",
      "11/11 [==============================] - 0s 42ms/step - loss: 4.3256e-04 - accuracy: 1.0000 - val_loss: 0.5280 - val_accuracy: 0.9405\n",
      "Epoch 78/100\n",
      "11/11 [==============================] - 0s 38ms/step - loss: 4.1510e-04 - accuracy: 1.0000 - val_loss: 0.5212 - val_accuracy: 0.9405\n",
      "Epoch 79/100\n",
      "11/11 [==============================] - 0s 38ms/step - loss: 4.1537e-04 - accuracy: 1.0000 - val_loss: 0.5116 - val_accuracy: 0.9405\n",
      "Epoch 80/100\n",
      "11/11 [==============================] - 0s 42ms/step - loss: 3.7459e-04 - accuracy: 1.0000 - val_loss: 0.5063 - val_accuracy: 0.9405\n",
      "Epoch 81/100\n",
      "11/11 [==============================] - 0s 35ms/step - loss: 3.8652e-04 - accuracy: 1.0000 - val_loss: 0.5065 - val_accuracy: 0.9405\n",
      "Epoch 82/100\n",
      "11/11 [==============================] - 0s 41ms/step - loss: 3.7497e-04 - accuracy: 1.0000 - val_loss: 0.5337 - val_accuracy: 0.9405\n",
      "Epoch 83/100\n",
      "11/11 [==============================] - 0s 38ms/step - loss: 3.6265e-04 - accuracy: 1.0000 - val_loss: 0.5208 - val_accuracy: 0.9405\n",
      "Epoch 84/100\n",
      "11/11 [==============================] - 0s 41ms/step - loss: 3.4370e-04 - accuracy: 1.0000 - val_loss: 0.5281 - val_accuracy: 0.9405\n",
      "Epoch 85/100\n",
      "11/11 [==============================] - 0s 39ms/step - loss: 3.4219e-04 - accuracy: 1.0000 - val_loss: 0.5111 - val_accuracy: 0.9405\n",
      "Epoch 86/100\n",
      "11/11 [==============================] - 0s 44ms/step - loss: 3.3032e-04 - accuracy: 1.0000 - val_loss: 0.5131 - val_accuracy: 0.9405\n",
      "Epoch 87/100\n",
      "11/11 [==============================] - 0s 43ms/step - loss: 3.1886e-04 - accuracy: 1.0000 - val_loss: 0.5298 - val_accuracy: 0.9405\n",
      "Epoch 88/100\n",
      "11/11 [==============================] - 0s 36ms/step - loss: 3.1088e-04 - accuracy: 1.0000 - val_loss: 0.5295 - val_accuracy: 0.9405\n",
      "Epoch 89/100\n",
      "11/11 [==============================] - 0s 33ms/step - loss: 3.0254e-04 - accuracy: 1.0000 - val_loss: 0.5252 - val_accuracy: 0.9405\n",
      "Epoch 90/100\n",
      "11/11 [==============================] - 0s 35ms/step - loss: 3.0048e-04 - accuracy: 1.0000 - val_loss: 0.5256 - val_accuracy: 0.9405\n",
      "Epoch 91/100\n",
      "11/11 [==============================] - 0s 34ms/step - loss: 2.9137e-04 - accuracy: 1.0000 - val_loss: 0.5199 - val_accuracy: 0.9405\n",
      "Epoch 92/100\n",
      "11/11 [==============================] - 0s 36ms/step - loss: 2.8125e-04 - accuracy: 1.0000 - val_loss: 0.5384 - val_accuracy: 0.9405\n",
      "Epoch 93/100\n",
      "11/11 [==============================] - 0s 41ms/step - loss: 2.7542e-04 - accuracy: 1.0000 - val_loss: 0.5327 - val_accuracy: 0.9405\n",
      "Epoch 94/100\n",
      "11/11 [==============================] - 0s 36ms/step - loss: 2.7015e-04 - accuracy: 1.0000 - val_loss: 0.5185 - val_accuracy: 0.9405\n",
      "Epoch 95/100\n",
      "11/11 [==============================] - 0s 31ms/step - loss: 2.7397e-04 - accuracy: 1.0000 - val_loss: 0.5272 - val_accuracy: 0.9405\n",
      "Epoch 96/100\n",
      "11/11 [==============================] - 0s 32ms/step - loss: 2.5285e-04 - accuracy: 1.0000 - val_loss: 0.5281 - val_accuracy: 0.9405\n",
      "Epoch 97/100\n",
      "11/11 [==============================] - 0s 29ms/step - loss: 2.5181e-04 - accuracy: 1.0000 - val_loss: 0.5357 - val_accuracy: 0.9405\n",
      "Epoch 98/100\n",
      "11/11 [==============================] - 0s 29ms/step - loss: 2.4747e-04 - accuracy: 1.0000 - val_loss: 0.5320 - val_accuracy: 0.9405\n",
      "Epoch 99/100\n",
      "11/11 [==============================] - 0s 30ms/step - loss: 2.3996e-04 - accuracy: 1.0000 - val_loss: 0.5344 - val_accuracy: 0.9405\n",
      "Epoch 100/100\n",
      "11/11 [==============================] - 0s 33ms/step - loss: 2.3420e-04 - accuracy: 1.0000 - val_loss: 0.5331 - val_accuracy: 0.9405\n"
     ]
    },
    {
     "data": {
      "text/plain": [
       "<keras.callbacks.History at 0x1c26adf2fd0>"
      ]
     },
     "execution_count": 30,
     "metadata": {},
     "output_type": "execute_result"
    }
   ],
   "source": [
    "model3.fit(data_train,y_train, epochs = 100, batch_size = 32, validation_split = 0.2)"
   ]
  },
  {
   "cell_type": "code",
   "execution_count": 16,
   "id": "b8d23bc3",
   "metadata": {
    "scrolled": true
   },
   "outputs": [
    {
     "data": {
      "text/plain": [
       "(1, 32, 32, 3)"
      ]
     },
     "execution_count": 16,
     "metadata": {},
     "output_type": "execute_result"
    }
   ],
   "source": [
    "import cv2\n",
    "img = cv2.imread(r\"E:\\My Doucuments\\Machine Learning\\Gesture Identification\\L\\L484.jpg\")\n",
    "#img = cv2.cvtColor(img, cv2.COLOR_BGR2GRAY)\n",
    "img = cv2.resize(img, (32,32))\n",
    "img =[img]\n",
    "img = np.array(img)\n",
    "img.shape"
   ]
  },
  {
   "cell_type": "code",
   "execution_count": 17,
   "id": "1295bb4b",
   "metadata": {
    "scrolled": true
   },
   "outputs": [
    {
     "name": "stdout",
     "output_type": "stream",
     "text": [
      "1/1 [==============================] - 0s 17ms/step\n"
     ]
    },
    {
     "data": {
      "text/plain": [
       "1"
      ]
     },
     "execution_count": 17,
     "metadata": {},
     "output_type": "execute_result"
    }
   ],
   "source": [
    "np.argmax(model3.predict(img))"
   ]
  },
  {
   "cell_type": "markdown",
   "id": "359093e9",
   "metadata": {},
   "source": [
    "#### Storing model"
   ]
  },
  {
   "cell_type": "code",
   "execution_count": 33,
   "id": "3c343694",
   "metadata": {},
   "outputs": [
    {
     "name": "stderr",
     "output_type": "stream",
     "text": [
      "WARNING:absl:Found untraced functions such as _jit_compiled_convolution_op, _jit_compiled_convolution_op, _update_step_xla while saving (showing 3 of 3). These functions will not be directly callable after loading.\n"
     ]
    },
    {
     "name": "stdout",
     "output_type": "stream",
     "text": [
      "INFO:tensorflow:Assets written to: E:\\My Doucuments\\Machine Learning\\Gesture Identification\\model-2\\assets\n"
     ]
    },
    {
     "name": "stderr",
     "output_type": "stream",
     "text": [
      "INFO:tensorflow:Assets written to: E:\\My Doucuments\\Machine Learning\\Gesture Identification\\model-2\\assets\n"
     ]
    }
   ],
   "source": [
    "import os\n",
    "model3.save(r\"E:\\My Doucuments\\Machine Learning\\Gesture Identification\\model-2\")"
   ]
  },
  {
   "cell_type": "markdown",
   "id": "fb1f6661",
   "metadata": {},
   "source": [
    "#### Loading Model"
   ]
  },
  {
   "cell_type": "code",
   "execution_count": 2,
   "id": "344e3d96",
   "metadata": {},
   "outputs": [],
   "source": [
    "import tensorflow as tf"
   ]
  },
  {
   "cell_type": "code",
   "execution_count": 8,
   "id": "d59282a6",
   "metadata": {},
   "outputs": [],
   "source": [
    "model3 = tf.keras.models.load_model(r\"E:\\My Doucuments\\Machine Learning\\Gesture Identification\\models\\trial-1\")"
   ]
  },
  {
   "cell_type": "markdown",
   "id": "e8001d2e",
   "metadata": {},
   "source": [
    "## Trying out on video feed"
   ]
  },
  {
   "cell_type": "code",
   "execution_count": 4,
   "id": "b996467a",
   "metadata": {},
   "outputs": [],
   "source": [
    "res_array = ['Index', 'palm', 'rock', 'L']"
   ]
  },
  {
   "cell_type": "code",
   "execution_count": 9,
   "id": "15617527",
   "metadata": {
    "scrolled": true
   },
   "outputs": [
    {
     "name": "stdout",
     "output_type": "stream",
     "text": [
      "1/1 [==============================] - 0s 62ms/step\n",
      "1/1 [==============================] - 0s 10ms/step\n",
      "1/1 [==============================] - 0s 16ms/step\n",
      "1/1 [==============================] - 0s 16ms/step\n",
      "1/1 [==============================] - 0s 16ms/step\n",
      "1/1 [==============================] - 0s 16ms/step\n",
      "1/1 [==============================] - 0s 29ms/step\n",
      "1/1 [==============================] - 0s 11ms/step\n",
      "1/1 [==============================] - 0s 7ms/step\n",
      "1/1 [==============================] - 0s 16ms/step\n",
      "1/1 [==============================] - 0s 16ms/step\n",
      "1/1 [==============================] - 0s 16ms/step\n",
      "1/1 [==============================] - 0s 16ms/step\n",
      "1/1 [==============================] - 0s 4ms/step\n",
      "1/1 [==============================] - 0s 17ms/step\n",
      "1/1 [==============================] - 0s 5ms/step\n",
      "1/1 [==============================] - 0s 16ms/step\n",
      "1/1 [==============================] - 0s 16ms/step\n",
      "1/1 [==============================] - 0s 16ms/step\n",
      "1/1 [==============================] - 0s 16ms/step\n",
      "1/1 [==============================] - 0s 1ms/step\n",
      "1/1 [==============================] - 0s 3ms/step\n",
      "1/1 [==============================] - 0s 17ms/step\n",
      "1/1 [==============================] - 0s 11ms/step\n",
      "1/1 [==============================] - 0s 16ms/step\n",
      "1/1 [==============================] - 0s 12ms/step\n",
      "1/1 [==============================] - 0s 16ms/step\n",
      "1/1 [==============================] - 0s 16ms/step\n",
      "1/1 [==============================] - 0s 16ms/step\n",
      "1/1 [==============================] - 0s 16ms/step\n",
      "1/1 [==============================] - 0s 16ms/step\n",
      "1/1 [==============================] - 0s 12ms/step\n",
      "1/1 [==============================] - 0s 16ms/step\n",
      "1/1 [==============================] - 0s 16ms/step\n",
      "1/1 [==============================] - 0s 18ms/step\n",
      "1/1 [==============================] - 0s 8ms/step\n",
      "1/1 [==============================] - 0s 16ms/step\n",
      "1/1 [==============================] - 0s 16ms/step\n",
      "1/1 [==============================] - 0s 16ms/step\n",
      "1/1 [==============================] - 0s 15ms/step\n",
      "1/1 [==============================] - 0s 16ms/step\n",
      "1/1 [==============================] - 0s 17ms/step\n",
      "1/1 [==============================] - 0s 10ms/step\n",
      "1/1 [==============================] - 0s 16ms/step\n",
      "1/1 [==============================] - 0s 15ms/step\n",
      "1/1 [==============================] - 0s 16ms/step\n",
      "1/1 [==============================] - 0s 16ms/step\n",
      "1/1 [==============================] - 0s 16ms/step\n",
      "1/1 [==============================] - 0s 16ms/step\n",
      "1/1 [==============================] - 0s 16ms/step\n",
      "1/1 [==============================] - 0s 16ms/step\n",
      "1/1 [==============================] - 0s 16ms/step\n",
      "1/1 [==============================] - 0s 16ms/step\n",
      "1/1 [==============================] - 0s 14ms/step\n",
      "1/1 [==============================] - 0s 20ms/step\n",
      "1/1 [==============================] - 0s 16ms/step\n",
      "1/1 [==============================] - 0s 7ms/step\n",
      "1/1 [==============================] - 0s 17ms/step\n",
      "1/1 [==============================] - 0s 12ms/step\n",
      "1/1 [==============================] - 0s 16ms/step\n",
      "1/1 [==============================] - 0s 11ms/step\n",
      "1/1 [==============================] - 0s 16ms/step\n",
      "1/1 [==============================] - 0s 16ms/step\n",
      "1/1 [==============================] - 0s 16ms/step\n",
      "1/1 [==============================] - 0s 5ms/step\n",
      "1/1 [==============================] - 0s 16ms/step\n",
      "1/1 [==============================] - 0s 14ms/step\n",
      "1/1 [==============================] - 0s 16ms/step\n",
      "1/1 [==============================] - 0s 1ms/step\n",
      "1/1 [==============================] - 0s 12ms/step\n",
      "1/1 [==============================] - 0s 15ms/step\n",
      "1/1 [==============================] - 0s 11ms/step\n",
      "1/1 [==============================] - 0s 16ms/step\n",
      "1/1 [==============================] - 0s 8ms/step\n",
      "1/1 [==============================] - 0s 10ms/step\n",
      "1/1 [==============================] - 0s 16ms/step\n",
      "1/1 [==============================] - 0s 16ms/step\n",
      "1/1 [==============================] - 0s 16ms/step\n",
      "1/1 [==============================] - 0s 1ms/step\n",
      "1/1 [==============================] - 0s 16ms/step\n",
      "1/1 [==============================] - 0s 5ms/step\n",
      "1/1 [==============================] - 0s 17ms/step\n",
      "1/1 [==============================] - 0s 10ms/step\n",
      "1/1 [==============================] - 0s 16ms/step\n",
      "1/1 [==============================] - 0s 10ms/step\n",
      "1/1 [==============================] - 0s 1ms/step\n",
      "1/1 [==============================] - 0s 20ms/step\n",
      "1/1 [==============================] - 0s 5ms/step\n",
      "1/1 [==============================] - 0s 19ms/step\n",
      "1/1 [==============================] - 0s 11ms/step\n",
      "1/1 [==============================] - 0s 16ms/step\n",
      "1/1 [==============================] - 0s 16ms/step\n",
      "1/1 [==============================] - 0s 0s/step\n",
      "1/1 [==============================] - 0s 3ms/step\n",
      "1/1 [==============================] - 0s 22ms/step\n",
      "1/1 [==============================] - 0s 16ms/step\n",
      "1/1 [==============================] - 0s 17ms/step\n",
      "1/1 [==============================] - 0s 16ms/step\n",
      "1/1 [==============================] - 0s 2ms/step\n",
      "1/1 [==============================] - 0s 15ms/step\n",
      "1/1 [==============================] - 0s 4ms/step\n",
      "1/1 [==============================] - 0s 8ms/step\n",
      "1/1 [==============================] - 0s 12ms/step\n",
      "1/1 [==============================] - 0s 13ms/step\n",
      "1/1 [==============================] - 0s 16ms/step\n",
      "1/1 [==============================] - 0s 13ms/step\n",
      "1/1 [==============================] - 0s 31ms/step\n",
      "1/1 [==============================] - 0s 16ms/step\n",
      "1/1 [==============================] - 0s 17ms/step\n",
      "1/1 [==============================] - 0s 17ms/step\n",
      "1/1 [==============================] - 0s 31ms/step\n",
      "1/1 [==============================] - 0s 18ms/step\n",
      "1/1 [==============================] - 0s 18ms/step\n",
      "1/1 [==============================] - 0s 16ms/step\n",
      "1/1 [==============================] - 0s 16ms/step\n",
      "1/1 [==============================] - 0s 16ms/step\n",
      "1/1 [==============================] - 0s 16ms/step\n",
      "1/1 [==============================] - 0s 15ms/step\n",
      "1/1 [==============================] - 0s 16ms/step\n",
      "1/1 [==============================] - 0s 15ms/step\n",
      "1/1 [==============================] - 0s 16ms/step\n",
      "1/1 [==============================] - 0s 16ms/step\n",
      "1/1 [==============================] - 0s 13ms/step\n",
      "1/1 [==============================] - 0s 7ms/step\n",
      "1/1 [==============================] - 0s 10ms/step\n",
      "1/1 [==============================] - 0s 8ms/step\n",
      "1/1 [==============================] - 0s 16ms/step\n",
      "1/1 [==============================] - 0s 16ms/step\n",
      "1/1 [==============================] - 0s 16ms/step\n",
      "1/1 [==============================] - 0s 16ms/step\n",
      "1/1 [==============================] - 0s 16ms/step\n",
      "1/1 [==============================] - 0s 17ms/step\n",
      "1/1 [==============================] - 0s 19ms/step\n",
      "1/1 [==============================] - 0s 15ms/step\n",
      "1/1 [==============================] - 0s 15ms/step\n",
      "1/1 [==============================] - 0s 19ms/step\n",
      "1/1 [==============================] - 0s 16ms/step\n",
      "1/1 [==============================] - 0s 15ms/step\n",
      "1/1 [==============================] - 0s 16ms/step\n",
      "1/1 [==============================] - 0s 27ms/step\n",
      "1/1 [==============================] - 0s 13ms/step\n",
      "1/1 [==============================] - 0s 16ms/step\n",
      "1/1 [==============================] - 0s 6ms/step\n",
      "1/1 [==============================] - 0s 16ms/step\n",
      "1/1 [==============================] - 0s 4ms/step\n",
      "1/1 [==============================] - 0s 16ms/step\n",
      "1/1 [==============================] - 0s 17ms/step\n",
      "1/1 [==============================] - 0s 16ms/step\n",
      "1/1 [==============================] - 0s 18ms/step\n",
      "1/1 [==============================] - 0s 16ms/step\n",
      "1/1 [==============================] - 0s 17ms/step\n",
      "1/1 [==============================] - 0s 16ms/step\n",
      "1/1 [==============================] - 0s 16ms/step\n",
      "1/1 [==============================] - 0s 32ms/step\n",
      "1/1 [==============================] - 0s 18ms/step\n",
      "1/1 [==============================] - 0s 16ms/step\n",
      "1/1 [==============================] - 0s 22ms/step\n",
      "1/1 [==============================] - 0s 31ms/step\n",
      "1/1 [==============================] - 0s 20ms/step\n",
      "1/1 [==============================] - 0s 32ms/step\n",
      "1/1 [==============================] - 0s 32ms/step\n",
      "1/1 [==============================] - 0s 16ms/step\n",
      "1/1 [==============================] - 0s 16ms/step\n",
      "1/1 [==============================] - 0s 16ms/step\n",
      "1/1 [==============================] - 0s 16ms/step\n",
      "1/1 [==============================] - 0s 16ms/step\n",
      "1/1 [==============================] - 0s 12ms/step\n",
      "1/1 [==============================] - 0s 28ms/step\n",
      "1/1 [==============================] - 0s 31ms/step\n",
      "1/1 [==============================] - 0s 16ms/step\n",
      "1/1 [==============================] - 0s 16ms/step\n",
      "1/1 [==============================] - 0s 16ms/step\n",
      "1/1 [==============================] - 0s 16ms/step\n",
      "1/1 [==============================] - 0s 16ms/step\n",
      "1/1 [==============================] - 0s 19ms/step\n",
      "1/1 [==============================] - 0s 31ms/step\n",
      "1/1 [==============================] - 0s 16ms/step\n",
      "1/1 [==============================] - 0s 16ms/step\n",
      "1/1 [==============================] - 0s 31ms/step\n",
      "1/1 [==============================] - 0s 16ms/step\n",
      "1/1 [==============================] - 0s 16ms/step\n",
      "1/1 [==============================] - 0s 16ms/step\n",
      "1/1 [==============================] - 0s 16ms/step\n",
      "1/1 [==============================] - 0s 23ms/step\n",
      "1/1 [==============================] - 0s 24ms/step\n",
      "1/1 [==============================] - 0s 17ms/step\n",
      "1/1 [==============================] - 0s 16ms/step\n",
      "1/1 [==============================] - 0s 16ms/step\n",
      "1/1 [==============================] - 0s 15ms/step\n",
      "1/1 [==============================] - 0s 16ms/step\n",
      "1/1 [==============================] - 0s 27ms/step\n",
      "1/1 [==============================] - 0s 24ms/step\n",
      "1/1 [==============================] - 0s 16ms/step\n",
      "1/1 [==============================] - 0s 16ms/step\n",
      "1/1 [==============================] - 0s 16ms/step\n",
      "1/1 [==============================] - 0s 16ms/step\n",
      "1/1 [==============================] - 0s 15ms/step\n",
      "1/1 [==============================] - 0s 16ms/step\n",
      "1/1 [==============================] - 0s 16ms/step\n",
      "1/1 [==============================] - 0s 26ms/step\n",
      "1/1 [==============================] - 0s 16ms/step\n",
      "1/1 [==============================] - 0s 16ms/step\n",
      "1/1 [==============================] - 0s 16ms/step\n",
      "1/1 [==============================] - 0s 16ms/step\n",
      "1/1 [==============================] - 0s 31ms/step\n",
      "1/1 [==============================] - 0s 12ms/step\n",
      "1/1 [==============================] - 0s 16ms/step\n",
      "1/1 [==============================] - 0s 16ms/step\n",
      "1/1 [==============================] - 0s 16ms/step\n",
      "1/1 [==============================] - 0s 16ms/step\n",
      "1/1 [==============================] - 0s 16ms/step\n",
      "1/1 [==============================] - 0s 16ms/step\n",
      "1/1 [==============================] - 0s 16ms/step\n",
      "1/1 [==============================] - 0s 16ms/step\n",
      "1/1 [==============================] - 0s 17ms/step\n",
      "1/1 [==============================] - 0s 16ms/step\n",
      "1/1 [==============================] - 0s 32ms/step\n",
      "1/1 [==============================] - 0s 16ms/step\n",
      "1/1 [==============================] - 0s 31ms/step\n",
      "1/1 [==============================] - 0s 16ms/step\n",
      "1/1 [==============================] - 0s 9ms/step\n",
      "1/1 [==============================] - 0s 17ms/step\n",
      "1/1 [==============================] - 0s 16ms/step\n",
      "1/1 [==============================] - 0s 18ms/step\n",
      "1/1 [==============================] - 0s 6ms/step\n",
      "1/1 [==============================] - 0s 23ms/step\n",
      "1/1 [==============================] - 0s 16ms/step\n",
      "1/1 [==============================] - 0s 16ms/step\n",
      "1/1 [==============================] - 0s 16ms/step\n",
      "1/1 [==============================] - 0s 31ms/step\n",
      "1/1 [==============================] - 0s 16ms/step\n",
      "1/1 [==============================] - 0s 16ms/step\n",
      "1/1 [==============================] - 0s 14ms/step\n",
      "1/1 [==============================] - 0s 16ms/step\n",
      "1/1 [==============================] - 0s 18ms/step\n",
      "1/1 [==============================] - 0s 15ms/step\n",
      "1/1 [==============================] - 0s 16ms/step\n",
      "1/1 [==============================] - 0s 31ms/step\n",
      "1/1 [==============================] - 0s 13ms/step\n",
      "1/1 [==============================] - 0s 16ms/step\n",
      "1/1 [==============================] - 0s 16ms/step\n",
      "1/1 [==============================] - 0s 17ms/step\n",
      "1/1 [==============================] - 0s 9ms/step\n",
      "1/1 [==============================] - 0s 12ms/step\n",
      "1/1 [==============================] - 0s 17ms/step\n",
      "1/1 [==============================] - 0s 16ms/step\n",
      "1/1 [==============================] - 0s 16ms/step\n",
      "1/1 [==============================] - 0s 20ms/step\n",
      "1/1 [==============================] - 0s 16ms/step\n",
      "1/1 [==============================] - 0s 14ms/step\n",
      "1/1 [==============================] - 0s 16ms/step\n",
      "1/1 [==============================] - 0s 16ms/step\n",
      "1/1 [==============================] - 0s 15ms/step\n",
      "1/1 [==============================] - 0s 12ms/step\n",
      "1/1 [==============================] - 0s 16ms/step\n",
      "1/1 [==============================] - 0s 15ms/step\n",
      "1/1 [==============================] - 0s 15ms/step\n",
      "1/1 [==============================] - 0s 12ms/step\n",
      "1/1 [==============================] - 0s 16ms/step\n",
      "1/1 [==============================] - 0s 13ms/step\n",
      "1/1 [==============================] - 0s 16ms/step\n",
      "1/1 [==============================] - 0s 31ms/step\n",
      "1/1 [==============================] - 0s 16ms/step\n",
      "1/1 [==============================] - 0s 16ms/step\n",
      "1/1 [==============================] - 0s 15ms/step\n",
      "1/1 [==============================] - 0s 15ms/step\n",
      "1/1 [==============================] - 0s 16ms/step\n",
      "1/1 [==============================] - 0s 7ms/step\n",
      "1/1 [==============================] - 0s 15ms/step\n",
      "1/1 [==============================] - 0s 16ms/step\n",
      "1/1 [==============================] - 0s 16ms/step\n",
      "1/1 [==============================] - 0s 16ms/step\n",
      "1/1 [==============================] - 0s 12ms/step\n",
      "1/1 [==============================] - 0s 16ms/step\n",
      "1/1 [==============================] - 0s 16ms/step\n",
      "1/1 [==============================] - 0s 17ms/step\n",
      "1/1 [==============================] - 0s 15ms/step\n",
      "1/1 [==============================] - 0s 16ms/step\n",
      "1/1 [==============================] - 0s 15ms/step\n",
      "1/1 [==============================] - 0s 15ms/step\n",
      "1/1 [==============================] - 0s 17ms/step\n"
     ]
    }
   ],
   "source": [
    "cap = cv2.VideoCapture(0)\n",
    "\n",
    "drawing = mp.solutions.drawing_utils\n",
    "hands = mp.solutions.hands\n",
    "hand_obj = hands.Hands(max_num_hands = 1)\n",
    "\n",
    "\n",
    "while True:\n",
    "    _, frm = cap.read()\n",
    "    \n",
    "    h, w, c = frm.shape\n",
    "\n",
    "    frm = cv2.flip(frm,1)\n",
    "    \n",
    "    res = hand_obj.process(cv2.cvtColor(frm, cv2.COLOR_BGR2RGB))\n",
    "    foi = frm\n",
    "    dim = frm.shape\n",
    "    # Draw the hand landmarks on the image\n",
    "    if res.multi_hand_landmarks:\n",
    "        for hand_landmarks in res.multi_hand_landmarks:\n",
    "\n",
    "            # Draw a rectangle around the hand\n",
    "            x_max = y_max = 0\n",
    "            x_min = dim[1]\n",
    "            y_min= dim[0]\n",
    "            for landmark in hand_landmarks.landmark:\n",
    "                x, y = int(landmark.x * frm.shape[1]), int(landmark.y * frm.shape[0])\n",
    "                \n",
    "                if x < x_min:\n",
    "                    x_min = x\n",
    "                if x > x_max:\n",
    "                    x_max = x\n",
    "                if y < y_min:\n",
    "                    y_min = y\n",
    "                if y > y_max:\n",
    "                    y_max = y\n",
    "            wid = x_max-x_min\n",
    "            if wid<200:\n",
    "                wid_d = (200 - wid)//2\n",
    "                \n",
    "            ht = y_max-y_min\n",
    "            if ht<250:\n",
    "                ht_d = (250 - ht)//2\n",
    "                \n",
    "            ##draw rectangle around hand\n",
    "            cv2.rectangle(frm, (x_min-wid_d, y_min-ht_d), (x_max+wid_d, y_max+ht_d), (0, 255, 0), 2)\n",
    "            \n",
    "            ## capture frame\n",
    "            foi = frm[y_min-ht_d+2:y_max+ht_d-2, x_min-wid_d+2:x_max+wid_d-2]\n",
    "            \n",
    "            ## frame preprocessing\n",
    "            foi = cv2.cvtColor(foi, cv2.COLOR_RGB2GRAY)\n",
    "            img = cv2.resize(foi, (32,32))\n",
    "            img = [img]\n",
    "            img = np.array(img)\n",
    "            \n",
    "            prediction = np.argmax(model3.predict(img))\n",
    "            \n",
    "            #print(prediction)\n",
    "            frm = cv2.putText(frm,res_array[prediction] , [x_min-wid_d, y_min-ht_d-20],fontFace = cv2.FONT_HERSHEY_DUPLEX,\n",
    "                              fontScale = 3.0,\n",
    "                              color = (125, 246, 55),\n",
    "                              thickness = 3)\n",
    "        \n",
    "    cv2.imshow(\"Video\", frm)\n",
    "\n",
    "    if cv2.waitKey(1) == 113:\n",
    "        cv2.destroyAllWindows()\n",
    "        cap.release()\n",
    "        break"
   ]
  },
  {
   "cell_type": "code",
   "execution_count": null,
   "id": "1caa85ff",
   "metadata": {},
   "outputs": [],
   "source": []
  },
  {
   "cell_type": "code",
   "execution_count": null,
   "id": "8f74352e",
   "metadata": {},
   "outputs": [],
   "source": []
  },
  {
   "cell_type": "code",
   "execution_count": null,
   "id": "1bad2046",
   "metadata": {},
   "outputs": [],
   "source": []
  },
  {
   "cell_type": "markdown",
   "id": "a42bb4a4",
   "metadata": {},
   "source": [
    "# Training Gesture CNN model version - 1.0.1\n",
    "## Updates\n",
    "### > More data points in each class\n",
    "### > tensorflow logging implementation"
   ]
  },
  {
   "cell_type": "code",
   "execution_count": 1,
   "id": "fdf88f16",
   "metadata": {},
   "outputs": [],
   "source": [
    "import os\n",
    "import numpy as np\n",
    "import matplotlib.pyplot as plt\n",
    "import tensorflow as tf\n",
    "from tensorflow import keras\n",
    "import cv2\n",
    "import mediapipe as mp\n",
    "from keras.layers import Dense, Conv2D, MaxPooling2D, Dropout, Flatten, Rescaling"
   ]
  },
  {
   "cell_type": "code",
   "execution_count": 63,
   "id": "6b30c1a6",
   "metadata": {},
   "outputs": [],
   "source": [
    "cap = cv2.VideoCapture(0)\n",
    "\n",
    "drawing = mp.solutions.drawing_utils\n",
    "hands = mp.solutions.hands\n",
    "hand_obj = hands.Hands(max_num_hands = 1)\n",
    "\n",
    "i = 0\n",
    "\n",
    "while True:\n",
    "    i=i+1\n",
    "    _, frm = cap.read()\n",
    "    \n",
    "    h, w, c = frm.shape\n",
    "\n",
    "    frm = cv2.flip(frm,1)\n",
    "    \n",
    "    res = hand_obj.process(cv2.cvtColor(frm, cv2.COLOR_BGR2RGB))\n",
    "    foi = frm\n",
    "    dim = frm.shape\n",
    "    # Draw the hand landmarks on the image\n",
    "    if res.multi_hand_landmarks:\n",
    "        for hand_landmarks in res.multi_hand_landmarks:\n",
    "\n",
    "            # Draw a rectangle around the hand\n",
    "            x_max = y_max = 0\n",
    "            x_min = dim[1]\n",
    "            y_min= dim[0]\n",
    "            for landmark in hand_landmarks.landmark:\n",
    "                x, y = int(landmark.x * frm.shape[1]), int(landmark.y * frm.shape[0])\n",
    "                \n",
    "                if x < x_min:\n",
    "                    x_min = x\n",
    "                if x > x_max:\n",
    "                    x_max = x\n",
    "                if y < y_min:\n",
    "                    y_min = y\n",
    "                if y > y_max:\n",
    "                    y_max = y\n",
    "            wid = x_max-x_min\n",
    "            if wid<200:\n",
    "                wid_d = (200 - wid)//2\n",
    "                \n",
    "            ht = y_max-y_min\n",
    "            if ht<250:\n",
    "                ht_d = (250 - ht)//2\n",
    "            cv2.rectangle(frm, (x_min-wid_d, y_min-ht_d), (x_max+wid_d, y_max+ht_d), (0, 255, 0), 2)\n",
    "            \n",
    "            foi = frm[y_min-ht_d+2:y_max+ht_d-2, x_min-wid_d+2:x_max+wid_d-2]\n",
    "            #foi = frm[y_min:y_max, x_min:x_max]\n",
    "            #drawing.draw_landmarks(frm,res.multi_hand_landmarks[0],hands.HAND_CONNECTIONS) \n",
    "\n",
    "    if foi.shape[0]>0 and foi.shape[1]>0:\n",
    "        cv2.imshow(\"Video\", foi)\n",
    "    \n",
    "        if cv2.waitKey(1) == ord('s'):\n",
    "                    cv2.imwrite(f'E:\\My Doucuments\\Machine Learning\\Gesture Identification\\Data\\Index\\Index{i}.jpg', foi)\n",
    "\n",
    "        if cv2.waitKey(1) == ord('q'):\n",
    "            cv2.destroyAllWindows()\n",
    "            cap.release()\n",
    "            break"
   ]
  },
  {
   "cell_type": "markdown",
   "id": "b277d657",
   "metadata": {},
   "source": [
    "## Renaming Images"
   ]
  },
  {
   "cell_type": "code",
   "execution_count": 66,
   "id": "ff1b155b",
   "metadata": {},
   "outputs": [],
   "source": [
    "# --Code Inspiration - Rohit's CODE-- #\n",
    "\n",
    "def rename_img(gest):\n",
    "    project_dir = \"E:\\My Doucuments\\Machine Learning\\Gesture Identification\\Data\"\n",
    "    images = os.listdir(os.path.join(project_dir,gest))\n",
    "    \n",
    "    for index, image in enumerate(images):\n",
    "        os.rename(os.path.join(project_dir,gest,image),os.path.join(project_dir,gest,f\"{gest}-{index+1}.jpg\"))"
   ]
  },
  {
   "cell_type": "code",
   "execution_count": 67,
   "id": "3b6b366c",
   "metadata": {
    "scrolled": true
   },
   "outputs": [],
   "source": [
    "rename_img('Index')"
   ]
  },
  {
   "cell_type": "markdown",
   "id": "262ddbaa",
   "metadata": {},
   "source": [
    "## Loading Data"
   ]
  },
  {
   "cell_type": "code",
   "execution_count": 73,
   "id": "9a0287b3",
   "metadata": {},
   "outputs": [
    {
     "name": "stdout",
     "output_type": "stream",
     "text": [
      "Found 845 files belonging to 4 classes.\n"
     ]
    }
   ],
   "source": [
    "project_dir = \"E:\\My Doucuments\\Machine Learning\\Gesture Identification\"\n",
    "data = tf.keras.utils.image_dataset_from_directory(os.path.join(project_dir,'Data'), shuffle = True, input)"
   ]
  },
  {
   "cell_type": "code",
   "execution_count": 75,
   "id": "eeeb37da",
   "metadata": {},
   "outputs": [
    {
     "name": "stdout",
     "output_type": "stream",
     "text": [
      "<BatchDataset element_spec=(TensorSpec(shape=(None, 256, 256, 3), dtype=tf.float32, name=None), TensorSpec(shape=(None,), dtype=tf.int32, name=None))>\n"
     ]
    }
   ],
   "source": [
    "print(data)"
   ]
  },
  {
   "cell_type": "code",
   "execution_count": 80,
   "id": "1e4fe10d",
   "metadata": {},
   "outputs": [],
   "source": [
    "data = data.map(lambda x, y: (tf.image.resize(x, (32, 32)), y))\n",
    "data = data.map(lambda x, y: (tf.image.rgb_to_grayscale(x), y))"
   ]
  },
  {
   "cell_type": "markdown",
   "id": "545d7b77",
   "metadata": {},
   "source": [
    "## Building CNN Model"
   ]
  },
  {
   "cell_type": "code",
   "execution_count": 82,
   "id": "436dfcbf",
   "metadata": {},
   "outputs": [],
   "source": [
    "no_of_classes = 4\n",
    "dropout_rate = 0.3\n",
    "\n",
    "model = keras.Sequential([\n",
    "    #CNN Layers\n",
    "    Conv2D(filters=64, activation='relu',kernel_size=(3,3),input_shape = (32,32,1)),\n",
    "    MaxPooling2D((2,2)),\n",
    "    \n",
    "    Conv2D(filters=32, activation='relu',kernel_size=(3,3)),\n",
    "    MaxPooling2D((2,2)),\n",
    "    \n",
    "    #Pre-Processing\n",
    "    Rescaling(scale = 1./255, offset=0.0),\n",
    "    Flatten(input_shape = (32,32)),\n",
    "    \n",
    "    # 3-dense layers\n",
    "    Dense(64, activation = 'relu'),\n",
    "    Dropout(dropout_rate),\n",
    "    \n",
    "    Dense(64, activation = 'relu'),\n",
    "    Dropout(dropout_rate),\n",
    "    \n",
    "    Dense(32, activation = 'relu'),\n",
    "    Dropout(dropout_rate),\n",
    "    \n",
    "    Dense(no_of_classes, activation = 'softmax')\n",
    "])\n",
    "\n",
    "model3.compile(\n",
    "    optimizer = 'adam', \n",
    "    loss = 'sparse_categorical_crossentropy',\n",
    "    metrics = ['accuracy']\n",
    ")\n"
   ]
  },
  {
   "cell_type": "code",
   "execution_count": 83,
   "id": "0803b231",
   "metadata": {
    "scrolled": false
   },
   "outputs": [
    {
     "name": "stdout",
     "output_type": "stream",
     "text": [
      "Model: \"sequential_1\"\n",
      "_________________________________________________________________\n",
      " Layer (type)                Output Shape              Param #   \n",
      "=================================================================\n",
      " conv2d_2 (Conv2D)           (None, 30, 30, 64)        640       \n",
      "                                                                 \n",
      " max_pooling2d_2 (MaxPooling  (None, 15, 15, 64)       0         \n",
      " 2D)                                                             \n",
      "                                                                 \n",
      " conv2d_3 (Conv2D)           (None, 13, 13, 32)        18464     \n",
      "                                                                 \n",
      " max_pooling2d_3 (MaxPooling  (None, 6, 6, 32)         0         \n",
      " 2D)                                                             \n",
      "                                                                 \n",
      " rescaling_1 (Rescaling)     (None, 6, 6, 32)          0         \n",
      "                                                                 \n",
      " flatten_1 (Flatten)         (None, 1152)              0         \n",
      "                                                                 \n",
      " dense_4 (Dense)             (None, 64)                73792     \n",
      "                                                                 \n",
      " dropout_3 (Dropout)         (None, 64)                0         \n",
      "                                                                 \n",
      " dense_5 (Dense)             (None, 64)                4160      \n",
      "                                                                 \n",
      " dropout_4 (Dropout)         (None, 64)                0         \n",
      "                                                                 \n",
      " dense_6 (Dense)             (None, 32)                2080      \n",
      "                                                                 \n",
      " dropout_5 (Dropout)         (None, 32)                0         \n",
      "                                                                 \n",
      " dense_7 (Dense)             (None, 4)                 132       \n",
      "                                                                 \n",
      "=================================================================\n",
      "Total params: 99,268\n",
      "Trainable params: 99,268\n",
      "Non-trainable params: 0\n",
      "_________________________________________________________________\n"
     ]
    }
   ],
   "source": [
    "model.summary()"
   ]
  },
  {
   "cell_type": "code",
   "execution_count": 89,
   "id": "3467dba1",
   "metadata": {},
   "outputs": [],
   "source": [
    "model.compile(\n",
    "    optimizer = 'adam', \n",
    "    loss = 'sparse_categorical_crossentropy',\n",
    "    metrics = ['accuracy']\n",
    ")"
   ]
  },
  {
   "cell_type": "markdown",
   "id": "e790474e",
   "metadata": {},
   "source": [
    "## Fitting the Data into the CNN model"
   ]
  },
  {
   "cell_type": "code",
   "execution_count": 90,
   "id": "9ad66723",
   "metadata": {},
   "outputs": [],
   "source": [
    "logdir='logs'\n",
    "callback = tf.keras.callbacks.TensorBoard(log_dir=logdir)"
   ]
  },
  {
   "cell_type": "code",
   "execution_count": 92,
   "id": "2dfd85d9",
   "metadata": {},
   "outputs": [
    {
     "data": {
      "text/plain": [
       "tensorflow.python.data.ops.dataset_ops.MapDataset"
      ]
     },
     "execution_count": 92,
     "metadata": {},
     "output_type": "execute_result"
    }
   ],
   "source": [
    "type(data)"
   ]
  },
  {
   "cell_type": "code",
   "execution_count": 97,
   "id": "8fd7ef49",
   "metadata": {
    "scrolled": true
   },
   "outputs": [
    {
     "name": "stdout",
     "output_type": "stream",
     "text": [
      "Epoch 1/100\n",
      "27/27 [==============================] - 4s 24ms/step - loss: 1.3788 - accuracy: 0.2994\n",
      "Epoch 2/100\n",
      "27/27 [==============================] - 1s 29ms/step - loss: 1.3323 - accuracy: 0.3633\n",
      "Epoch 3/100\n",
      "27/27 [==============================] - 1s 29ms/step - loss: 1.0798 - accuracy: 0.5574\n",
      "Epoch 4/100\n",
      "27/27 [==============================] - 1s 29ms/step - loss: 0.7608 - accuracy: 0.7089\n",
      "Epoch 5/100\n",
      "27/27 [==============================] - 1s 28ms/step - loss: 0.4887 - accuracy: 0.8320\n",
      "Epoch 6/100\n",
      "27/27 [==============================] - 1s 28ms/step - loss: 0.3768 - accuracy: 0.8864\n",
      "Epoch 7/100\n",
      "27/27 [==============================] - 1s 29ms/step - loss: 0.2691 - accuracy: 0.9172\n",
      "Epoch 8/100\n",
      "27/27 [==============================] - 1s 29ms/step - loss: 0.2304 - accuracy: 0.9385\n",
      "Epoch 9/100\n",
      "27/27 [==============================] - 1s 29ms/step - loss: 0.2075 - accuracy: 0.9467\n",
      "Epoch 10/100\n",
      "27/27 [==============================] - 1s 29ms/step - loss: 0.1428 - accuracy: 0.9586\n",
      "Epoch 11/100\n",
      "27/27 [==============================] - 1s 31ms/step - loss: 0.1531 - accuracy: 0.9538\n",
      "Epoch 12/100\n",
      "27/27 [==============================] - 1s 31ms/step - loss: 0.1439 - accuracy: 0.9621\n",
      "Epoch 13/100\n",
      "27/27 [==============================] - 1s 38ms/step - loss: 0.1038 - accuracy: 0.9716\n",
      "Epoch 14/100\n",
      "27/27 [==============================] - 1s 39ms/step - loss: 0.0939 - accuracy: 0.9728\n",
      "Epoch 15/100\n",
      "27/27 [==============================] - 1s 45ms/step - loss: 0.0707 - accuracy: 0.9834\n",
      "Epoch 16/100\n",
      "27/27 [==============================] - 2s 55ms/step - loss: 0.0822 - accuracy: 0.9763\n",
      "Epoch 17/100\n",
      "27/27 [==============================] - 2s 47ms/step - loss: 0.0497 - accuracy: 0.9822\n",
      "Epoch 18/100\n",
      "27/27 [==============================] - 2s 50ms/step - loss: 0.0802 - accuracy: 0.9787\n",
      "Epoch 19/100\n",
      "27/27 [==============================] - 2s 49ms/step - loss: 0.0639 - accuracy: 0.9811\n",
      "Epoch 20/100\n",
      "27/27 [==============================] - 2s 48ms/step - loss: 0.0702 - accuracy: 0.9811\n",
      "Epoch 21/100\n",
      "27/27 [==============================] - 1s 46ms/step - loss: 0.0505 - accuracy: 0.9858\n",
      "Epoch 22/100\n",
      "27/27 [==============================] - 1s 46ms/step - loss: 0.0453 - accuracy: 0.9905\n",
      "Epoch 23/100\n",
      "27/27 [==============================] - 2s 47ms/step - loss: 0.0311 - accuracy: 0.9929\n",
      "Epoch 24/100\n",
      "27/27 [==============================] - 2s 54ms/step - loss: 0.0259 - accuracy: 0.9941\n",
      "Epoch 25/100\n",
      "27/27 [==============================] - 2s 53ms/step - loss: 0.0296 - accuracy: 0.9893\n",
      "Epoch 26/100\n",
      "27/27 [==============================] - 1s 46ms/step - loss: 0.0331 - accuracy: 0.9893\n",
      "Epoch 27/100\n",
      "27/27 [==============================] - 2s 50ms/step - loss: 0.0331 - accuracy: 0.9941\n",
      "Epoch 28/100\n",
      "27/27 [==============================] - 2s 49ms/step - loss: 0.0193 - accuracy: 0.9917\n",
      "Epoch 29/100\n",
      "27/27 [==============================] - 2s 49ms/step - loss: 0.0395 - accuracy: 0.9905\n",
      "Epoch 30/100\n",
      "27/27 [==============================] - 2s 52ms/step - loss: 0.0212 - accuracy: 0.9953\n",
      "Epoch 31/100\n",
      "27/27 [==============================] - 2s 50ms/step - loss: 0.0297 - accuracy: 0.9893\n",
      "Epoch 32/100\n",
      "27/27 [==============================] - 2s 49ms/step - loss: 0.0257 - accuracy: 0.9929\n",
      "Epoch 33/100\n",
      "27/27 [==============================] - 2s 48ms/step - loss: 0.0119 - accuracy: 0.9976\n",
      "Epoch 34/100\n",
      "27/27 [==============================] - 2s 52ms/step - loss: 0.0319 - accuracy: 0.9905\n",
      "Epoch 35/100\n",
      "27/27 [==============================] - 2s 50ms/step - loss: 0.0243 - accuracy: 0.9941\n",
      "Epoch 36/100\n",
      "27/27 [==============================] - 2s 59ms/step - loss: 0.0226 - accuracy: 0.9964\n",
      "Epoch 37/100\n",
      "27/27 [==============================] - 2s 56ms/step - loss: 0.0215 - accuracy: 0.9953\n",
      "Epoch 38/100\n",
      "27/27 [==============================] - 2s 64ms/step - loss: 0.0216 - accuracy: 0.9941\n",
      "Epoch 39/100\n",
      "27/27 [==============================] - 2s 59ms/step - loss: 0.0134 - accuracy: 0.9964\n",
      "Epoch 40/100\n",
      "27/27 [==============================] - 2s 60ms/step - loss: 0.0143 - accuracy: 0.9964\n",
      "Epoch 41/100\n",
      "27/27 [==============================] - 2s 60ms/step - loss: 0.0206 - accuracy: 0.9917\n",
      "Epoch 42/100\n",
      "27/27 [==============================] - 2s 59ms/step - loss: 0.0145 - accuracy: 0.9964\n",
      "Epoch 43/100\n",
      "27/27 [==============================] - 2s 58ms/step - loss: 0.0103 - accuracy: 0.9976\n",
      "Epoch 44/100\n",
      "27/27 [==============================] - 2s 64ms/step - loss: 0.0207 - accuracy: 0.9941\n",
      "Epoch 45/100\n",
      "27/27 [==============================] - 2s 61ms/step - loss: 0.0142 - accuracy: 0.9964\n",
      "Epoch 46/100\n",
      "27/27 [==============================] - 2s 54ms/step - loss: 0.0205 - accuracy: 0.9953\n",
      "Epoch 47/100\n",
      "27/27 [==============================] - 2s 53ms/step - loss: 0.0082 - accuracy: 0.9976\n",
      "Epoch 48/100\n",
      "27/27 [==============================] - 2s 61ms/step - loss: 0.0117 - accuracy: 0.9929\n",
      "Epoch 49/100\n",
      "27/27 [==============================] - 2s 65ms/step - loss: 0.0175 - accuracy: 0.9941\n",
      "Epoch 50/100\n",
      "27/27 [==============================] - 2s 63ms/step - loss: 0.0173 - accuracy: 0.9917\n",
      "Epoch 51/100\n",
      "27/27 [==============================] - 2s 61ms/step - loss: 0.0116 - accuracy: 0.9964\n",
      "Epoch 52/100\n",
      "27/27 [==============================] - 2s 57ms/step - loss: 0.0075 - accuracy: 0.9976\n",
      "Epoch 53/100\n",
      "27/27 [==============================] - 2s 58ms/step - loss: 0.0100 - accuracy: 0.9953\n",
      "Epoch 54/100\n",
      "27/27 [==============================] - 2s 52ms/step - loss: 0.0145 - accuracy: 0.9929\n",
      "Epoch 55/100\n",
      "27/27 [==============================] - 2s 55ms/step - loss: 0.0299 - accuracy: 0.9929\n",
      "Epoch 56/100\n",
      "27/27 [==============================] - 2s 53ms/step - loss: 0.0513 - accuracy: 0.9858\n",
      "Epoch 57/100\n",
      "27/27 [==============================] - 2s 54ms/step - loss: 0.0583 - accuracy: 0.9822\n",
      "Epoch 58/100\n",
      "27/27 [==============================] - 2s 58ms/step - loss: 0.0527 - accuracy: 0.9858\n",
      "Epoch 59/100\n",
      "27/27 [==============================] - 2s 59ms/step - loss: 0.0308 - accuracy: 0.9929\n",
      "Epoch 60/100\n",
      "27/27 [==============================] - 2s 60ms/step - loss: 0.0131 - accuracy: 0.9964\n",
      "Epoch 61/100\n",
      "27/27 [==============================] - 2s 54ms/step - loss: 0.0114 - accuracy: 0.9964\n",
      "Epoch 62/100\n",
      "27/27 [==============================] - 2s 58ms/step - loss: 0.0105 - accuracy: 0.9988\n",
      "Epoch 63/100\n",
      "27/27 [==============================] - 2s 54ms/step - loss: 0.0196 - accuracy: 0.9917\n",
      "Epoch 64/100\n",
      "27/27 [==============================] - 2s 53ms/step - loss: 0.0148 - accuracy: 0.9941\n",
      "Epoch 65/100\n",
      "27/27 [==============================] - 2s 59ms/step - loss: 0.0097 - accuracy: 0.9976\n",
      "Epoch 66/100\n",
      "27/27 [==============================] - 2s 62ms/step - loss: 0.0088 - accuracy: 0.9964\n",
      "Epoch 67/100\n",
      "27/27 [==============================] - 2s 54ms/step - loss: 0.0113 - accuracy: 0.9964\n",
      "Epoch 68/100\n",
      "27/27 [==============================] - 2s 56ms/step - loss: 0.0105 - accuracy: 0.9964\n",
      "Epoch 69/100\n",
      "27/27 [==============================] - 2s 50ms/step - loss: 0.0198 - accuracy: 0.9976\n",
      "Epoch 70/100\n",
      "27/27 [==============================] - 2s 50ms/step - loss: 0.0030 - accuracy: 1.0000\n",
      "Epoch 71/100\n",
      "27/27 [==============================] - 2s 62ms/step - loss: 0.0116 - accuracy: 0.9976\n",
      "Epoch 72/100\n",
      "27/27 [==============================] - 2s 58ms/step - loss: 0.0089 - accuracy: 0.9988\n",
      "Epoch 73/100\n",
      "27/27 [==============================] - 2s 53ms/step - loss: 0.0129 - accuracy: 0.9941\n",
      "Epoch 74/100\n",
      "27/27 [==============================] - 2s 54ms/step - loss: 0.0151 - accuracy: 0.9976\n",
      "Epoch 75/100\n",
      "27/27 [==============================] - 2s 58ms/step - loss: 0.0162 - accuracy: 0.9953\n",
      "Epoch 76/100\n",
      "27/27 [==============================] - 2s 64ms/step - loss: 0.0039 - accuracy: 0.9988\n",
      "Epoch 77/100\n",
      "27/27 [==============================] - 2s 56ms/step - loss: 0.0050 - accuracy: 0.9988\n",
      "Epoch 78/100\n",
      "27/27 [==============================] - 2s 61ms/step - loss: 0.0012 - accuracy: 1.0000\n",
      "Epoch 79/100\n",
      "27/27 [==============================] - 2s 65ms/step - loss: 0.0018 - accuracy: 1.0000\n",
      "Epoch 80/100\n",
      "27/27 [==============================] - 2s 65ms/step - loss: 0.0062 - accuracy: 0.9976\n",
      "Epoch 81/100\n",
      "27/27 [==============================] - 2s 59ms/step - loss: 0.0435 - accuracy: 0.9893\n",
      "Epoch 82/100\n",
      "27/27 [==============================] - 2s 58ms/step - loss: 0.0152 - accuracy: 0.9929\n",
      "Epoch 83/100\n",
      "27/27 [==============================] - 2s 59ms/step - loss: 0.0073 - accuracy: 0.9988\n",
      "Epoch 84/100\n",
      "27/27 [==============================] - 2s 55ms/step - loss: 0.0220 - accuracy: 0.9941\n",
      "Epoch 85/100\n",
      "27/27 [==============================] - 2s 60ms/step - loss: 0.0095 - accuracy: 0.9953\n",
      "Epoch 86/100\n",
      "27/27 [==============================] - 2s 58ms/step - loss: 0.0173 - accuracy: 0.9964\n",
      "Epoch 87/100\n",
      "27/27 [==============================] - 2s 54ms/step - loss: 0.0052 - accuracy: 0.9988\n",
      "Epoch 88/100\n",
      "27/27 [==============================] - 2s 54ms/step - loss: 0.0052 - accuracy: 0.9988\n",
      "Epoch 89/100\n",
      "27/27 [==============================] - 2s 61ms/step - loss: 0.0061 - accuracy: 0.9976\n",
      "Epoch 90/100\n",
      "27/27 [==============================] - 2s 62ms/step - loss: 0.0020 - accuracy: 1.0000\n",
      "Epoch 91/100\n",
      "27/27 [==============================] - 2s 69ms/step - loss: 0.0135 - accuracy: 0.9941\n",
      "Epoch 92/100\n",
      "27/27 [==============================] - 2s 64ms/step - loss: 0.0129 - accuracy: 0.9964\n",
      "Epoch 93/100\n",
      "27/27 [==============================] - 2s 68ms/step - loss: 0.0142 - accuracy: 0.9964\n",
      "Epoch 94/100\n",
      "27/27 [==============================] - 2s 71ms/step - loss: 0.0095 - accuracy: 0.9976\n",
      "Epoch 95/100\n",
      "27/27 [==============================] - 3s 78ms/step - loss: 0.0061 - accuracy: 0.9988\n",
      "Epoch 96/100\n",
      "27/27 [==============================] - 3s 84ms/step - loss: 0.0098 - accuracy: 0.9976\n",
      "Epoch 97/100\n",
      "27/27 [==============================] - 3s 95ms/step - loss: 0.0062 - accuracy: 0.9988\n",
      "Epoch 98/100\n",
      "27/27 [==============================] - 3s 82ms/step - loss: 0.0137 - accuracy: 0.9964\n",
      "Epoch 99/100\n",
      "27/27 [==============================] - 2s 60ms/step - loss: 0.0146 - accuracy: 0.9964\n",
      "Epoch 100/100\n",
      "27/27 [==============================] - 2s 53ms/step - loss: 0.0034 - accuracy: 1.0000\n"
     ]
    },
    {
     "data": {
      "text/plain": [
       "<keras.callbacks.History at 0x21cc21802e0>"
      ]
     },
     "execution_count": 97,
     "metadata": {},
     "output_type": "execute_result"
    }
   ],
   "source": [
    "model.fit(data, epochs = 100, batch_size = 32,  callbacks= [callback])"
   ]
  },
  {
   "cell_type": "markdown",
   "id": "0419b57a",
   "metadata": {},
   "source": [
    "## Saving Model"
   ]
  },
  {
   "cell_type": "code",
   "execution_count": 98,
   "id": "d4d576f0",
   "metadata": {},
   "outputs": [
    {
     "name": "stderr",
     "output_type": "stream",
     "text": [
      "WARNING:absl:Found untraced functions such as _jit_compiled_convolution_op, _jit_compiled_convolution_op, _update_step_xla while saving (showing 3 of 3). These functions will not be directly callable after loading.\n"
     ]
    },
    {
     "name": "stdout",
     "output_type": "stream",
     "text": [
      "INFO:tensorflow:Assets written to: E:\\My Doucuments\\Machine Learning\\Gesture Identification\\models\\trial-3\\assets\n"
     ]
    },
    {
     "name": "stderr",
     "output_type": "stream",
     "text": [
      "INFO:tensorflow:Assets written to: E:\\My Doucuments\\Machine Learning\\Gesture Identification\\models\\trial-3\\assets\n"
     ]
    }
   ],
   "source": [
    "import os\n",
    "model.save(r\"E:\\My Doucuments\\Machine Learning\\Gesture Identification\\models\\trial-3\")"
   ]
  },
  {
   "cell_type": "markdown",
   "id": "64086faa",
   "metadata": {},
   "source": [
    "## Testing Model"
   ]
  },
  {
   "cell_type": "code",
   "execution_count": 2,
   "id": "addffd09",
   "metadata": {},
   "outputs": [],
   "source": [
    "# imports to run just the test block\n",
    "import cv2\n",
    "import tensorflow as tf\n",
    "import os\n",
    "import numpy as np\n",
    "import mediapipe as mp"
   ]
  },
  {
   "cell_type": "code",
   "execution_count": 3,
   "id": "a1676c43",
   "metadata": {},
   "outputs": [],
   "source": [
    "model = tf.keras.models.load_model('../../../models/Trial-3');\n",
    "res_array = ['Index', 'L', 'Palm', 'Stop']"
   ]
  },
  {
   "cell_type": "code",
   "execution_count": 4,
   "id": "bd1e7e0c",
   "metadata": {},
   "outputs": [
    {
     "name": "stdout",
     "output_type": "stream",
     "text": [
      "1/1 [==============================] - 0s 96ms/step\n",
      "1/1 [==============================] - 0s 13ms/step\n",
      "1/1 [==============================] - 0s 13ms/step\n",
      "1/1 [==============================] - 0s 13ms/step\n",
      "1/1 [==============================] - 0s 14ms/step\n",
      "1/1 [==============================] - 0s 14ms/step\n",
      "1/1 [==============================] - 0s 14ms/step\n",
      "1/1 [==============================] - 0s 15ms/step\n",
      "1/1 [==============================] - 0s 13ms/step\n",
      "1/1 [==============================] - 0s 12ms/step\n",
      "1/1 [==============================] - 0s 13ms/step\n",
      "1/1 [==============================] - 0s 14ms/step\n",
      "1/1 [==============================] - 0s 13ms/step\n",
      "1/1 [==============================] - 0s 13ms/step\n",
      "1/1 [==============================] - 0s 13ms/step\n",
      "1/1 [==============================] - 0s 13ms/step\n",
      "1/1 [==============================] - 0s 13ms/step\n",
      "1/1 [==============================] - 0s 13ms/step\n",
      "1/1 [==============================] - 0s 13ms/step\n",
      "1/1 [==============================] - 0s 14ms/step\n",
      "1/1 [==============================] - 0s 13ms/step\n",
      "1/1 [==============================] - 0s 14ms/step\n",
      "1/1 [==============================] - 0s 14ms/step\n",
      "1/1 [==============================] - 0s 14ms/step\n",
      "1/1 [==============================] - 0s 14ms/step\n",
      "1/1 [==============================] - 0s 13ms/step\n",
      "1/1 [==============================] - 0s 14ms/step\n",
      "1/1 [==============================] - 0s 13ms/step\n",
      "1/1 [==============================] - 0s 14ms/step\n",
      "1/1 [==============================] - 0s 13ms/step\n",
      "1/1 [==============================] - 0s 13ms/step\n",
      "1/1 [==============================] - 0s 14ms/step\n",
      "1/1 [==============================] - 0s 14ms/step\n",
      "1/1 [==============================] - 0s 13ms/step\n",
      "1/1 [==============================] - 0s 13ms/step\n",
      "1/1 [==============================] - 0s 13ms/step\n",
      "1/1 [==============================] - 0s 13ms/step\n",
      "1/1 [==============================] - 0s 13ms/step\n",
      "1/1 [==============================] - 0s 14ms/step\n",
      "1/1 [==============================] - 0s 14ms/step\n",
      "1/1 [==============================] - 0s 14ms/step\n",
      "1/1 [==============================] - 0s 13ms/step\n",
      "1/1 [==============================] - 0s 13ms/step\n",
      "1/1 [==============================] - 0s 13ms/step\n",
      "1/1 [==============================] - 0s 12ms/step\n",
      "1/1 [==============================] - 0s 14ms/step\n",
      "1/1 [==============================] - 0s 13ms/step\n",
      "1/1 [==============================] - 0s 13ms/step\n",
      "1/1 [==============================] - 0s 14ms/step\n",
      "1/1 [==============================] - 0s 13ms/step\n",
      "1/1 [==============================] - 0s 13ms/step\n",
      "1/1 [==============================] - 0s 13ms/step\n",
      "1/1 [==============================] - 0s 14ms/step\n",
      "1/1 [==============================] - 0s 15ms/step\n",
      "1/1 [==============================] - 0s 14ms/step\n",
      "1/1 [==============================] - 0s 13ms/step\n",
      "1/1 [==============================] - 0s 14ms/step\n",
      "1/1 [==============================] - 0s 15ms/step\n",
      "1/1 [==============================] - 0s 14ms/step\n",
      "1/1 [==============================] - 0s 14ms/step\n",
      "1/1 [==============================] - 0s 15ms/step\n",
      "1/1 [==============================] - 0s 13ms/step\n",
      "1/1 [==============================] - 0s 14ms/step\n",
      "1/1 [==============================] - 0s 13ms/step\n",
      "1/1 [==============================] - 0s 14ms/step\n",
      "1/1 [==============================] - 0s 14ms/step\n",
      "1/1 [==============================] - 0s 13ms/step\n",
      "1/1 [==============================] - 0s 13ms/step\n",
      "1/1 [==============================] - 0s 12ms/step\n",
      "1/1 [==============================] - 0s 13ms/step\n",
      "1/1 [==============================] - 0s 13ms/step\n",
      "1/1 [==============================] - 0s 13ms/step\n",
      "1/1 [==============================] - 0s 14ms/step\n",
      "1/1 [==============================] - 0s 14ms/step\n",
      "1/1 [==============================] - 0s 14ms/step\n",
      "1/1 [==============================] - 0s 14ms/step\n",
      "1/1 [==============================] - 0s 13ms/step\n",
      "1/1 [==============================] - 0s 15ms/step\n",
      "1/1 [==============================] - 0s 14ms/step\n",
      "1/1 [==============================] - 0s 14ms/step\n",
      "1/1 [==============================] - 0s 14ms/step\n",
      "1/1 [==============================] - 0s 13ms/step\n",
      "1/1 [==============================] - 0s 13ms/step\n",
      "1/1 [==============================] - 0s 14ms/step\n",
      "1/1 [==============================] - 0s 14ms/step\n",
      "1/1 [==============================] - 0s 15ms/step\n",
      "1/1 [==============================] - 0s 14ms/step\n",
      "1/1 [==============================] - 0s 14ms/step\n"
     ]
    }
   ],
   "source": [
    "cap = cv2.VideoCapture(0)\n",
    "\n",
    "drawing = mp.solutions.drawing_utils\n",
    "hands = mp.solutions.hands\n",
    "hand_obj = hands.Hands(max_num_hands = 1)\n",
    "\n",
    "\n",
    "while True:\n",
    "    _, frm = cap.read()\n",
    "    \n",
    "    h, w, c = frm.shape\n",
    "\n",
    "    frm = cv2.flip(frm,1)\n",
    "    \n",
    "    res = hand_obj.process(cv2.cvtColor(frm, cv2.COLOR_BGR2RGB))\n",
    "    foi = frm\n",
    "    dim = frm.shape\n",
    "    # Draw the hand landmarks on the image\n",
    "    if res.multi_hand_landmarks:\n",
    "        for hand_landmarks in res.multi_hand_landmarks:\n",
    "\n",
    "            # Draw a rectangle around the hand\n",
    "            x_max = y_max = 0\n",
    "            x_min = dim[1]\n",
    "            y_min= dim[0]\n",
    "            for landmark in hand_landmarks.landmark:\n",
    "                x, y = int(landmark.x * frm.shape[1]), int(landmark.y * frm.shape[0])\n",
    "                \n",
    "                if x < x_min:\n",
    "                    x_min = x\n",
    "                if x > x_max:\n",
    "                    x_max = x\n",
    "                if y < y_min:\n",
    "                    y_min = y\n",
    "                if y > y_max:\n",
    "                    y_max = y\n",
    "            wid = x_max-x_min\n",
    "            if wid<200:\n",
    "                wid_d = (200 - wid)//2\n",
    "                \n",
    "            ht = y_max-y_min\n",
    "            if ht<250:\n",
    "                ht_d = (250 - ht)//2\n",
    "                \n",
    "            ##draw rectangle around hand\n",
    "            cv2.rectangle(frm, (x_min-wid_d, y_min-ht_d), (x_max+wid_d, y_max+ht_d), (0, 255, 0), 2)\n",
    "            \n",
    "            ## capture frame\n",
    "            foi = frm[y_min-ht_d+2:y_max+ht_d-2, x_min-wid_d+2:x_max+wid_d-2]\n",
    "            \n",
    "            ## frame preprocessing\n",
    "#             foi = cv2.cvtColor(foi, cv2.COLOR_RGB2GRAY)\n",
    "#             img = cv2.resize(foi, (32,32))\n",
    "#             img = [img]\n",
    "#             img = np.array(img)\n",
    "\n",
    "            # Preprocessing using tf methods\n",
    "            foi = tf.image.rgb_to_grayscale(foi)\n",
    "            img = tf.image.resize(foi, [32, 32])\n",
    "            img = tf.expand_dims(img, 2)\n",
    "            img = tf.expand_dims(img, 0)\n",
    "            \n",
    "            prediction = np.argmax(model.predict(img))\n",
    "            \n",
    "            #print(prediction)\n",
    "            frm = cv2.putText(frm,res_array[prediction] , [x_min-wid_d, y_min-ht_d-20],fontFace = cv2.FONT_HERSHEY_DUPLEX,\n",
    "                              fontScale = 3.0,\n",
    "                              color = (125, 246, 55),\n",
    "                              thickness = 3)\n",
    "        \n",
    "    cv2.imshow(\"Video\", frm)\n",
    "\n",
    "    if cv2.waitKey(1) == 113:\n",
    "        cv2.destroyAllWindows()\n",
    "        cap.release()\n",
    "        break"
   ]
  },
  {
   "cell_type": "code",
   "execution_count": 5,
   "id": "776b3513",
   "metadata": {},
   "outputs": [],
   "source": [
    "img = cv2.imread('../../test.png')"
   ]
  },
  {
   "cell_type": "code",
   "execution_count": 7,
   "id": "091d8b1e",
   "metadata": {},
   "outputs": [],
   "source": [
    "import matplotlib.pyplot as plt"
   ]
  },
  {
   "cell_type": "code",
   "execution_count": 8,
   "id": "2777e050",
   "metadata": {},
   "outputs": [
    {
     "data": {
      "text/plain": [
       "<matplotlib.image.AxesImage at 0x210c70445e0>"
      ]
     },
     "execution_count": 8,
     "metadata": {},
     "output_type": "execute_result"
    },
    {
     "data": {
      "image/png": "[encoded data removed]",
      "text/plain": [
       "<Figure size 640x480 with 1 Axes>"
      ]
     },
     "metadata": {},
     "output_type": "display_data"
    }
   ],
   "source": [
    "plt.imshow(img)"
   ]
  },
  {
   "cell_type": "code",
   "execution_count": 9,
   "id": "0327976f",
   "metadata": {},
   "outputs": [
    {
     "data": {
      "text/plain": [
       "(380, 256, 3)"
      ]
     },
     "execution_count": 9,
     "metadata": {},
     "output_type": "execute_result"
    }
   ],
   "source": [
    "img.shape"
   ]
  },
  {
   "cell_type": "code",
   "execution_count": 10,
   "id": "72edb89f",
   "metadata": {},
   "outputs": [],
   "source": [
    "h, w, c = img.shape"
   ]
  },
  {
   "cell_type": "code",
   "execution_count": 16,
   "id": "2f70240f",
   "metadata": {},
   "outputs": [],
   "source": [
    "img = tf.image.crop_and_resize(np.expand_dims(img, axis = 0), tf.constant([[0, 0, 256/h, 190/w]]), [0], [256, 190])"
   ]
  },
  {
   "cell_type": "code",
   "execution_count": 18,
   "id": "2739ca38",
   "metadata": {},
   "outputs": [],
   "source": [
    "img = tf.squeeze(img)"
   ]
  },
  {
   "cell_type": "code",
   "execution_count": 19,
   "id": "bd152792",
   "metadata": {},
   "outputs": [
    {
     "name": "stderr",
     "output_type": "stream",
     "text": [
      "Clipping input data to the valid range for imshow with RGB data ([0..1] for floats or [0..255] for integers).\n"
     ]
    },
    {
     "data": {
      "text/plain": [
       "<matplotlib.image.AxesImage at 0x210d9c29f30>"
      ]
     },
     "execution_count": 19,
     "metadata": {},
     "output_type": "execute_result"
    },
    {
     "data": {
      "image/png": "[encoded data removed]",
      "text/plain": [
       "<Figure size 640x480 with 1 Axes>"
      ]
     },
     "metadata": {},
     "output_type": "display_data"
    }
   ],
   "source": [
    "plt.imshow(img)"
   ]
  },
  {
   "cell_type": "code",
   "execution_count": 27,
   "id": "c72ef238",
   "metadata": {},
   "outputs": [],
   "source": [
    "# Load the image using tf.io.read_file and tf.image.decode_image\n",
    "image = tf.io.read_file('../../test.jpg')\n",
    "image = tf.image.decode_image(image)\n",
    "\n",
    "# Get the image dimensions\n",
    "h, w, _ = image.shape\n",
    "\n",
    "# Define the bounding box coordinates (normalized to the range [0, 1])\n",
    "bbox = [[0, 0, 190/w, 256/h]]\n",
    "\n",
    "# Reshape the bbox tensor to have shape (1, 4)\n",
    "bbox = np.array(bbox, dtype=np.float32)\n",
    "bbox = np.reshape(bbox, (1, 4))\n",
    "\n",
    "# Crop and resize the image\n",
    "cropped_image = tf.image.crop_and_resize(\n",
    "    tf.expand_dims(image, axis=0), \n",
    "    bbox, \n",
    "    [0], \n",
    "    [256, 190]\n",
    ")\n",
    "\n",
    "# Remove the extra batch dimension from the cropped image tensor\n",
    "cropped_image = tf.squeeze(cropped_image)\n",
    "\n",
    "# Display the cropped image\n",
    "tf.keras.preprocessing.image.array_to_img(cropped_image.numpy()).show()\n"
   ]
  },
  {
   "cell_type": "code",
   "execution_count": 24,
   "id": "b8f3e778",
   "metadata": {},
   "outputs": [
    {
     "name": "stderr",
     "output_type": "stream",
     "text": [
      "Clipping input data to the valid range for imshow with RGB data ([0..1] for floats or [0..255] for integers).\n"
     ]
    },
    {
     "data": {
      "text/plain": [
       "<matplotlib.image.AxesImage at 0x210d9c890c0>"
      ]
     },
     "execution_count": 24,
     "metadata": {},
     "output_type": "execute_result"
    },
    {
     "data": {
      "image/png": "[encoded data removed]",
      "text/plain": [
       "<Figure size 640x480 with 1 Axes>"
      ]
     },
     "metadata": {},
     "output_type": "display_data"
    }
   ],
   "source": [
    "plt.imshow(cropped_image)"
   ]
  },
  {
   "cell_type": "code",
   "execution_count": null,
   "id": "45a93909",
   "metadata": {},
   "outputs": [],
   "source": []
  }
 ],
 "metadata": {
  "kernelspec": {
   "display_name": "Python 3 (ipykernel)",
   "language": "python",
   "name": "python3"
  },
  "language_info": {
   "codemirror_mode": {
    "name": "ipython",
    "version": 3
   },
   "file_extension": ".py",
   "mimetype": "text/x-python",
   "name": "python",
   "nbconvert_exporter": "python",
   "pygments_lexer": "ipython3",
   "version": "3.10.0"
  }
 },
 "nbformat": 4,
 "nbformat_minor": 5
}
